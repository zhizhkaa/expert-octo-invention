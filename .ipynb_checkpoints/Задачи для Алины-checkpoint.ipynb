{
 "cells": [
  {
   "cell_type": "code",
   "execution_count": 2,
   "id": "existing-chicken",
   "metadata": {},
   "outputs": [
    {
     "name": "stdout",
     "output_type": "stream",
     "text": [
      "1 фунтов 456 грамм\n",
      "2 фунтов 912 грамм\n",
      "3 фунтов 1368 грамм\n",
      "4 фунтов 1824 грамм\n",
      "5 фунтов 2280 грамм\n",
      "6 фунтов 2736 грамм\n",
      "7 фунтов 3192 грамм\n",
      "8 фунтов 3648 грамм\n",
      "9 фунтов 4104 грамм\n",
      "10 фунтов 4560 грамм\n"
     ]
    }
   ],
   "source": [
    "for i in range(1,11):\n",
    "    print(i, \"фунтов\", i*456, \"грамм\")"
   ]
  },
  {
   "cell_type": "code",
   "execution_count": 4,
   "id": "responsible-office",
   "metadata": {},
   "outputs": [
    {
     "name": "stdout",
     "output_type": "stream",
     "text": [
      "120300\n",
      "Сумма:  120300\n"
     ]
    }
   ],
   "source": [
    "print(\"Сумма: \", sum(range(100, 501)))"
   ]
  },
  {
   "cell_type": "code",
   "execution_count": 10,
   "id": "controversial-protein",
   "metadata": {},
   "outputs": [
    {
     "name": "stdout",
     "output_type": "stream",
     "text": [
      "1 x 1 = 1\n",
      "1 x 2 = 2\n",
      "1 x 3 = 3\n",
      "1 x 4 = 4\n",
      "1 x 5 = 5\n",
      "1 x 6 = 6\n",
      "1 x 7 = 7\n",
      "1 x 8 = 8\n",
      "1 x 9 = 9\n",
      "1 x 10 = 10\n",
      "\n",
      "2 x 1 = 2\n",
      "2 x 2 = 4\n",
      "2 x 3 = 6\n",
      "2 x 4 = 8\n",
      "2 x 5 = 10\n",
      "2 x 6 = 12\n",
      "2 x 7 = 14\n",
      "2 x 8 = 16\n",
      "2 x 9 = 18\n",
      "2 x 10 = 20\n",
      "\n",
      "3 x 1 = 3\n",
      "3 x 2 = 6\n",
      "3 x 3 = 9\n",
      "3 x 4 = 12\n",
      "3 x 5 = 15\n",
      "3 x 6 = 18\n",
      "3 x 7 = 21\n",
      "3 x 8 = 24\n",
      "3 x 9 = 27\n",
      "3 x 10 = 30\n",
      "\n",
      "4 x 1 = 4\n",
      "4 x 2 = 8\n",
      "4 x 3 = 12\n",
      "4 x 4 = 16\n",
      "4 x 5 = 20\n",
      "4 x 6 = 24\n",
      "4 x 7 = 28\n",
      "4 x 8 = 32\n",
      "4 x 9 = 36\n",
      "4 x 10 = 40\n",
      "\n",
      "5 x 1 = 5\n",
      "5 x 2 = 10\n",
      "5 x 3 = 15\n",
      "5 x 4 = 20\n",
      "5 x 5 = 25\n",
      "5 x 6 = 30\n",
      "5 x 7 = 35\n",
      "5 x 8 = 40\n",
      "5 x 9 = 45\n",
      "5 x 10 = 50\n",
      "\n",
      "6 x 1 = 6\n",
      "6 x 2 = 12\n",
      "6 x 3 = 18\n",
      "6 x 4 = 24\n",
      "6 x 5 = 30\n",
      "6 x 6 = 36\n",
      "6 x 7 = 42\n",
      "6 x 8 = 48\n",
      "6 x 9 = 54\n",
      "6 x 10 = 60\n",
      "\n",
      "7 x 1 = 7\n",
      "7 x 2 = 14\n",
      "7 x 3 = 21\n",
      "7 x 4 = 28\n",
      "7 x 5 = 35\n",
      "7 x 6 = 42\n",
      "7 x 7 = 49\n",
      "7 x 8 = 56\n",
      "7 x 9 = 63\n",
      "7 x 10 = 70\n",
      "\n",
      "8 x 1 = 8\n",
      "8 x 2 = 16\n",
      "8 x 3 = 24\n",
      "8 x 4 = 32\n",
      "8 x 5 = 40\n",
      "8 x 6 = 48\n",
      "8 x 7 = 56\n",
      "8 x 8 = 64\n",
      "8 x 9 = 72\n",
      "8 x 10 = 80\n",
      "\n",
      "9 x 1 = 9\n",
      "9 x 2 = 18\n",
      "9 x 3 = 27\n",
      "9 x 4 = 36\n",
      "9 x 5 = 45\n",
      "9 x 6 = 54\n",
      "9 x 7 = 63\n",
      "9 x 8 = 72\n",
      "9 x 9 = 81\n",
      "9 x 10 = 90\n",
      "\n",
      "10 x 1 = 10\n",
      "10 x 2 = 20\n",
      "10 x 3 = 30\n",
      "10 x 4 = 40\n",
      "10 x 5 = 50\n",
      "10 x 6 = 60\n",
      "10 x 7 = 70\n",
      "10 x 8 = 80\n",
      "10 x 9 = 90\n",
      "10 x 10 = 100\n",
      "\n"
     ]
    }
   ],
   "source": [
    "for x in range(1, 11):\n",
    "    for y in range (1, 11):\n",
    "        print(x, 'x', y, '=', x*y)\n",
    "    print()"
   ]
  },
  {
   "cell_type": "code",
   "execution_count": 11,
   "id": "polished-supervision",
   "metadata": {},
   "outputs": [
    {
     "name": "stdout",
     "output_type": "stream",
     "text": [
      "Сумма:  120300\n"
     ]
    }
   ],
   "source": [
    "for i in range(100, 501):\n",
    "    s += i\n",
    "print(\"Сумма: \", s)"
   ]
  },
  {
   "cell_type": "code",
   "execution_count": 14,
   "id": "municipal-penalty",
   "metadata": {},
   "outputs": [
    {
     "name": "stdin",
     "output_type": "stream",
     "text": [
      "Введите a:  600\n"
     ]
    },
    {
     "name": "stdout",
     "output_type": "stream",
     "text": [
      "Неверное a\n"
     ]
    }
   ],
   "source": [
    "a = int(input(\"Введите a: \"))\n",
    "if (a >= 500):\n",
    "    print(\"Неверное a\")\n",
    "else:\n",
    "    print(\"Сумма: \", sum(range(a,501)))"
   ]
  },
  {
   "cell_type": "code",
   "execution_count": 17,
   "id": "color-contribution",
   "metadata": {},
   "outputs": [
    {
     "name": "stdin",
     "output_type": "stream",
     "text": [
      "Введите b:  10\n"
     ]
    },
    {
     "name": "stdout",
     "output_type": "stream",
     "text": [
      "Сумма:  0\n"
     ]
    }
   ],
   "source": [
    "b = int(input(\"Введите b: \"))\n",
    "if (b <= -10):\n",
    "    print(\"Неверное b\")\n",
    "else:\n",
    "    print(\"Сумма: \", sum(range(-10, b + 1)))"
   ]
  },
  {
   "cell_type": "code",
   "execution_count": 23,
   "id": "lined-bloom",
   "metadata": {},
   "outputs": [
    {
     "name": "stdout",
     "output_type": "stream",
     "text": [
      "1\t2\t3\t4\t5\t6\t7\t8\t9\t10\t\n",
      "2\t4\t6\t8\t10\t12\t14\t16\t18\t20\t\n",
      "3\t6\t9\t12\t15\t18\t21\t24\t27\t30\t\n",
      "4\t8\t12\t16\t20\t24\t28\t32\t36\t40\t\n",
      "5\t10\t15\t20\t25\t30\t35\t40\t45\t50\t\n",
      "6\t12\t18\t24\t30\t36\t42\t48\t54\t60\t\n",
      "7\t14\t21\t28\t35\t42\t49\t56\t63\t70\t\n",
      "8\t16\t24\t32\t40\t48\t56\t64\t72\t80\t\n",
      "9\t18\t27\t36\t45\t54\t63\t72\t81\t90\t\n",
      "10\t20\t30\t40\t50\t60\t70\t80\t90\t100\t\n"
     ]
    }
   ],
   "source": [
    "for i in range(1, 11):\n",
    "    for j in range(i, i*11, i):\n",
    "        print(j, end='\\t')\n",
    "    print()"
   ]
  },
  {
   "cell_type": "code",
   "execution_count": 30,
   "id": "progressive-nylon",
   "metadata": {},
   "outputs": [
    {
     "name": "stdout",
     "output_type": "stream",
     "text": [
      "Фильм 1 Фильм 2 Фильм 3 Фильм 4 Фильм 5  \n",
      "\n",
      "Фильм 1\n",
      "Фильм 2\n",
      "Фильм 3\n",
      "Фильм 4\n",
      "Фильм 5\n",
      "\n",
      " Фильм 1, Фильм 2, Фильм 3, Фильм 4, Фильм 5, \n"
     ]
    }
   ],
   "source": [
    "# Список любимых фильмов\n",
    "films = [\"Фильм 1\", \"Фильм 2\", \"Фильм 3\", \"Фильм 4\", \"Фильм 5\"]\n",
    "\n",
    "# Вывод в строку\n",
    "line = \"\"\n",
    "for film in films:\n",
    "    line += film + \" \"\n",
    "print(line, \"\\n\")\n",
    "\n",
    "# Вывод в столбик\n",
    "for film in films:\n",
    "    print(film)\n",
    "    \n",
    "# Вывод в строку с запятой\n",
    "line2 = \"\"\n",
    "for film in films:\n",
    "    line2 += film + \", \"   \n",
    "print(\"\\n\",line2)\n"
   ]
  },
  {
   "cell_type": "code",
   "execution_count": 36,
   "id": "pharmaceutical-empty",
   "metadata": {},
   "outputs": [
    {
     "name": "stdout",
     "output_type": "stream",
     "text": [
      "[-98, -184, 948, 388, -486, -735, 25, 705, -314, -461]\n",
      "Наибольшее:  948\n"
     ]
    }
   ],
   "source": [
    "arr = []\n",
    "for i in range(0,10):\n",
    "    arr.append(random.randint(-1000, 1000))\n",
    "    \n",
    "print(arr)\n",
    "print(\"Наибольшее: \", max(arr))"
   ]
  },
  {
   "cell_type": "code",
   "execution_count": 37,
   "id": "forward-ratio",
   "metadata": {},
   "outputs": [
    {
     "name": "stdout",
     "output_type": "stream",
     "text": [
      "[-753, -212, 279, 215, -115, -1, -326, 808, -317, -839]\n",
      "[0, -212, 0, 0, 0, 0, -326, 808, 0, 0]\n"
     ]
    }
   ],
   "source": [
    "import random\n",
    "arr = []\n",
    "for i in range(0,10):\n",
    "    arr.append(random.randint(-100, 101))\n",
    "print(arr)\n",
    "\n",
    "for n in range(0, 10):\n",
    "    if(arr[n] % 2 != 0): \n",
    "    # Если остаток от деления на два не равняется нулю\n",
    "        arr[n] = 0  \n",
    "print(arr)"
   ]
  },
  {
   "cell_type": "code",
   "execution_count": 44,
   "id": "proprietary-change",
   "metadata": {},
   "outputs": [
    {
     "name": "stdout",
     "output_type": "stream",
     "text": [
      "[719, 895, -943, -402, -623, -69, -620, 750, 563, -879]\n",
      "[895, 750, 719, 563, -69, -402, -620, -623, -879, -943]\n"
     ]
    }
   ],
   "source": [
    "import random\n",
    "arr = []\n",
    "for i in range(0,10):\n",
    "    arr.append(random.randint(-1000, 1000))\n",
    "print(arr)\n",
    "\n",
    "arr = sorted(arr)\n",
    "arr.reverse()\n",
    "print(arr)"
   ]
  },
  {
   "cell_type": "code",
   "execution_count": 61,
   "id": "respiratory-master",
   "metadata": {},
   "outputs": [
    {
     "name": "stdout",
     "output_type": "stream",
     "text": [
      "A:  [758, -467, -605, 627, -611, 942, -386, -755, -766, -330]\n",
      "B:  [-467, -605, -611, -386, -755, -766, -330]\n"
     ]
    }
   ],
   "source": [
    "import random\n",
    "a = []\n",
    "b = []\n",
    "\n",
    "for i in range(0,10):\n",
    "    a.append(random.randint(-1000, 1000))\n",
    "\n",
    "for i in range(0, 10):\n",
    "    if a[i] < 5:\n",
    "        b.append(a[i])\n",
    "print(\"A: \", a)\n",
    "print(\"B: \", b)"
   ]
  },
  {
   "cell_type": "code",
   "execution_count": null,
   "id": "connected-values",
   "metadata": {},
   "outputs": [],
   "source": []
  }
 ],
 "metadata": {
  "kernelspec": {
   "display_name": "Python 3",
   "language": "python",
   "name": "python3"
  },
  "language_info": {
   "codemirror_mode": {
    "name": "ipython",
    "version": 3
   },
   "file_extension": ".py",
   "mimetype": "text/x-python",
   "name": "python",
   "nbconvert_exporter": "python",
   "pygments_lexer": "ipython3",
   "version": "3.9.1"
  }
 },
 "nbformat": 4,
 "nbformat_minor": 5
}
