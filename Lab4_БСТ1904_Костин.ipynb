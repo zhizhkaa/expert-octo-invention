{
 "cells": [
  {
   "cell_type": "markdown",
   "id": "black-teach",
   "metadata": {},
   "source": [
    "# Лабораторная работа №4\n",
    "## Выполнил студент группы БСТ1904 Костин Антон Алексеевич\n",
    "\n",
    "Реализовать следующие структуры данных:\n",
    "\n",
    "● **Стек (stack)**:  \n",
    "*операции для стека:* инициализация, проверка на пустоту, добавление\n",
    "нового элемента в начало, извлечение элемента из начала;\n",
    "\n",
    "● **Дек (двусторонняя очередь, deque):**   \n",
    "*операции для дека:* инициализация, проверка на пустоту, добавление\n",
    "нового элемента в начало, добавление нового элемента в конец,\n",
    "извлечение элемента из начала, извлечение элемента из конца.\n"
   ]
  },
  {
   "cell_type": "markdown",
   "id": "necessary-hamilton",
   "metadata": {},
   "source": [
    "#### Стэк"
   ]
  },
  {
   "cell_type": "code",
   "execution_count": 2,
   "id": "unlikely-sitting",
   "metadata": {},
   "outputs": [],
   "source": [
    "class LinkedList:\n",
    "    def __init__(self, value=None):\n",
    "        self.value = value\n",
    "        self.right = None\n",
    "        self.left = None"
   ]
  },
  {
   "cell_type": "code",
   "execution_count": 3,
   "id": "prostate-consideration",
   "metadata": {},
   "outputs": [],
   "source": [
    "class Stack:\n",
    "    def __init__(self):\n",
    "        self.top = LinkedList()\n",
    "        self.size = 0\n",
    "    \n",
    "    def __len__(self):\n",
    "        return self.size\n",
    "    \n",
    "    def __str__(self):\n",
    "        return f\"Stack: {self.top}\"\n",
    "\n",
    "    def isEmpty(self):\n",
    "        return self.size == 0\n",
    "\n",
    "    def push(self, value):\n",
    "        if self.size > 0:\n",
    "            node = LinkedList(value)\n",
    "            node.right = self.top\n",
    "            self.top = node\n",
    "        else:\n",
    "            self.top.value = value\n",
    "        self.size += 1\n",
    "      \n",
    "    def pop(self):\n",
    "        if self.isEmpty():\n",
    "            return(\"Стэк пустой\")\n",
    "        remove = self.top\n",
    "        if self.size > 1:\n",
    "            self.top = remove.right\n",
    "        self.size -= 1\n",
    "        return remove.value\n",
    "    \n",
    "    def peek(self):\n",
    "        if self.isEmpty():\n",
    "            return(\"Стэк пустой\")\n",
    "        return self.top.value\n",
    "    \n",
    "    def reverse(self):\n",
    "        current = self.top\n",
    "        prev = None\n",
    "        nex = None\n",
    "        while current is not None:\n",
    "            nex = current.right\n",
    "            current.right = prev\n",
    "            prev = current\n",
    "            current = nex\n",
    "\n",
    "        self.top = prev"
   ]
  },
  {
   "cell_type": "markdown",
   "id": "august-external",
   "metadata": {},
   "source": [
    "#### Дэк"
   ]
  },
  {
   "cell_type": "code",
   "execution_count": 4,
   "id": "sound-hawaiian",
   "metadata": {},
   "outputs": [],
   "source": [
    "class Deque:\n",
    "    def __init__(self):\n",
    "        self.top = LinkedList()\n",
    "        self.bottom = self.top\n",
    "        self.size = 0\n",
    "        \n",
    "    def __len__(self):\n",
    "        return self.size\n",
    "    \n",
    "    def isEmpty(self):\n",
    "        return self.size == 0\n",
    "\n",
    "    def pushLeft(self, value):\n",
    "        if self.size > 0:\n",
    "            a = LinkedList(value)\n",
    "            a.right = self.bottom\n",
    "            self.bottom.left = a\n",
    "            self.bottom = a\n",
    "        else:\n",
    "            self.bottom.value = value\n",
    "        self.size += 1\n",
    "\n",
    "    def pushRight(self, value):\n",
    "        if self.size > 0:\n",
    "            a = LinkedList(value)\n",
    "            a.left = self.top\n",
    "            self.top.right = a\n",
    "            self.top = a\n",
    "        else:\n",
    "            self.top.value = value\n",
    "        self.size += 1\n",
    "    \n",
    "    def popLeft(self):\n",
    "        if self.isEmpty():\n",
    "            return('Пустой дэк')\n",
    "        remove = self.bottom\n",
    "        if self.size > 1:\n",
    "            self.bottom = remove.right\n",
    "        self.size -= 1\n",
    "        return remove.value\n",
    "    \n",
    "    def popRight(self):\n",
    "        if self.isEmpty():\n",
    "            return('Пустой дэк')\n",
    "        remove = self.top\n",
    "        if self.size > 1:\n",
    "            self.top = remove.left\n",
    "        self.size -= 1\n",
    "        return remove.value\n",
    "    \n",
    "    def peekRight(self):\n",
    "        if self.isEmpty():\n",
    "            return('Пустой дэк')\n",
    "        return self.top.value\n",
    "    \n",
    "    def peekLeft(self):\n",
    "        if self.isEmpty():\n",
    "            return('Пустой дэк')\n",
    "        return self.bottom.value"
   ]
  },
  {
   "cell_type": "markdown",
   "id": "communist-above",
   "metadata": {},
   "source": [
    "### Задача 1\n",
    "Отсортировать строки файла, содержащие названия книг, в алфавитном порядке с использованием двух *деков*."
   ]
  },
  {
   "cell_type": "code",
   "execution_count": 5,
   "id": "portable-volume",
   "metadata": {},
   "outputs": [
    {
     "name": "stdout",
     "output_type": "stream",
     "text": [
      "Август\n",
      "\n",
      "Ваниль\n",
      "\n",
      "Винил\n",
      "\n",
      "Гений\n",
      "\n",
      "Герой\n",
      "\n",
      "Меркурий\n",
      "Мышь\n",
      "\n",
      "Октябрь\n",
      "\n",
      "Помидор\n",
      "\n",
      "Пушка\n",
      "\n",
      "Сентябрь\n",
      "\n",
      "Яблоко\n",
      "\n"
     ]
    }
   ],
   "source": [
    "with open('Lab4_Task/books.txt', 'r') as books:\n",
    "    d1 = Deque()\n",
    "    d2 = Deque()\n",
    "    for book in books:\n",
    "        d1.pushRight(book)\n",
    "    while not d1.isEmpty():\n",
    "        a = d1.popRight()\n",
    "        while not d2.isEmpty() and d2.peekRight() > a:\n",
    "            d1.pushLeft(d2.popRight())\n",
    "        d2.pushRight(a)\n",
    "    while not d2.isEmpty():\n",
    "        print(d2.popLeft())"
   ]
  },
  {
   "cell_type": "markdown",
   "id": "asian-miniature",
   "metadata": {},
   "source": [
    "### Задача 2\n",
    "Дек содержит последовательность символов для шифровки сообщений. Дан текстовый файл, содержащий зашифрованное сообщение. Пользуясь деком, расшифровать текст.  \n",
    "Известно, что при шифровке каждый символ сообщения заменялся следующим за ним в деке по часовой стрелке через один."
   ]
  },
  {
   "cell_type": "code",
   "execution_count": 6,
   "id": "auburn-smooth",
   "metadata": {},
   "outputs": [],
   "source": [
    "a = list('абвгдеёжзийклмнопрстуфхцчшщъыьэюя')\n",
    "pattern = Deque()\n",
    "for letter in a:\n",
    "    pattern.pushRight(letter)"
   ]
  },
  {
   "cell_type": "code",
   "execution_count": 7,
   "id": "presidential-bhutan",
   "metadata": {},
   "outputs": [
    {
     "name": "stdout",
     "output_type": "stream",
     "text": [
      "поешь еще этих мягких французких булок да выпей чаю\n"
     ]
    }
   ],
   "source": [
    "def decode(char):\n",
    "    for x in range(len(pattern)):\n",
    "        a = pattern.popRight()\n",
    "        if a == char:\n",
    "            pattern.pushLeft(a)\n",
    "            decodedA = pattern.popRight()\n",
    "            pattern.pushLeft(decodedA)\n",
    "            return decodedA\n",
    "        pattern.pushLeft(a)\n",
    "        \n",
    "#       поешь еще этих мягких французких булок да выпей чаю      \n",
    "text = 'рпёщэ ёъё юуйц надлйц хсбочфилйц вфмпл еб гьрёк шбя'\n",
    "decoded = ''\n",
    "\n",
    "for letter in text:\n",
    "    decoded_letter = decode(letter)\n",
    "    if decoded_letter == None:\n",
    "        decoded += ' '\n",
    "    else:\n",
    "        decoded += decoded_letter\n",
    "\n",
    "print(decoded)"
   ]
  },
  {
   "cell_type": "markdown",
   "id": "assigned-mattress",
   "metadata": {},
   "source": [
    "### Задача 3\n",
    "Даны три стержня и n дисков различного размера. Диски можно надевать на\n",
    "стержни, образуя из них башни.  \n",
    "Перенести n дисков со стержня А на стержень С,\n",
    "сохранив их первоначальный порядок.  \n",
    "При переносе дисков необходимо соблюдать\n",
    "следующие правила:\n",
    "- на каждом шаге со стержня на стержень переносить только один диск;\n",
    "- диск нельзя помещать на диск меньшего размера;\n",
    "- для промежуточного хранения можно использовать стержень В.  \n",
    "\n",
    "Реализовать алгоритм, используя три стека вместо стержней А, В, С."
   ]
  },
  {
   "cell_type": "markdown",
   "id": "robust-matthew",
   "metadata": {},
   "source": [
    "##### Simpler statement of iterative solution  \n",
    "For an even number of disks:\n",
    "- make the legal move between pegs A and B (in either direction),\n",
    "- make the legal move between pegs A and C (in either direction),\n",
    "- make the legal move between pegs B and C (in either direction),\n",
    "- repeat until complete.  \n",
    "\n",
    "For an odd number of disks:\n",
    "- make the legal move between pegs A and C (in either direction),\n",
    "- make the legal move between pegs A and B (in either direction),\n",
    "- make the legal move between pegs B and C (in either direction),\n",
    "- repeat until complete.  \n",
    "\n",
    "In each case, a total of 2n − 1 moves are made."
   ]
  },
  {
   "cell_type": "code",
   "execution_count": 10,
   "id": "chinese-egyptian",
   "metadata": {},
   "outputs": [
    {
     "name": "stdin",
     "output_type": "stream",
     "text": [
      "Введите количество дисков:  10\n"
     ]
    },
    {
     "name": "stdout",
     "output_type": "stream",
     "text": [
      "1\n",
      "2\n",
      "3\n",
      "4\n",
      "5\n",
      "6\n",
      "7\n",
      "8\n",
      "9\n",
      "10\n"
     ]
    }
   ],
   "source": [
    "A = Stack()\n",
    "B = Stack()\n",
    "C = Stack()\n",
    "\n",
    "n = int(input('Введите количество дисков: '))\n",
    "for i in range(n, 0, -1):\n",
    "    A.push(i)\n",
    "    \n",
    "def move(a, b):\n",
    "    # Перенести можно только если один из шестов пустой\n",
    "    if len(a) == 0 and len(b) > 0:\n",
    "        a.push(b.pop())\n",
    "    elif len(a) > 0 and len(b) == 0:\n",
    "        b.push(a.pop())\n",
    "    # Или если на одном из шестов верхнее значение больше переносимого\n",
    "    elif a.peek() > b.peek():\n",
    "        a.push(b.pop())\n",
    "    else:\n",
    "        b.push(a.pop())\n",
    "\n",
    "if n % 2 == 0:\n",
    "    while len(C) != n:\n",
    "        move(A, B)\n",
    "        move(A, C)\n",
    "        move(B, C)\n",
    "else:\n",
    "    while len(C) != n:\n",
    "        move(A, C)\n",
    "        move(A, B)\n",
    "        move(B, C)\n",
    "\n",
    "while not C.isEmpty():\n",
    "    print(C.pop())"
   ]
  },
  {
   "cell_type": "markdown",
   "id": "distinct-harvest",
   "metadata": {},
   "source": [
    "### Задача 4\n",
    "Дан текстовый файл с программой на алгоритмическом языке. За один просмотр\n",
    "файла проверить баланс круглых скобок в тексте, используя стек."
   ]
  },
  {
   "cell_type": "code",
   "execution_count": 11,
   "id": "worldwide-marriage",
   "metadata": {},
   "outputs": [
    {
     "name": "stdout",
     "output_type": "stream",
     "text": [
      "Нехватка скобок\n"
     ]
    }
   ],
   "source": [
    "check = Stack() \n",
    "\n",
    "with open('Lab4_Task/brackets.txt', 'r') as brackets: \n",
    "    while True:\n",
    "        char = brackets.read(1)\n",
    "        if not char:\n",
    "            break\n",
    "            \n",
    "        if char == '(':\n",
    "            check.push(char)\n",
    "        elif char == ')':\n",
    "            if check.isEmpty():\n",
    "                print('Нехватка скобок')\n",
    "                break\n",
    "            else:\n",
    "                check.push(char)\n",
    "                \n",
    "while not check.isEmpty():\n",
    "    print(check.pop())"
   ]
  },
  {
   "cell_type": "markdown",
   "id": "miniature-motel",
   "metadata": {},
   "source": [
    "### Задача 5\n",
    "Дан текстовый файл с программой на алгоритмическом языке.  \n",
    "За один просмотр файла проверить баланс квадратных скобок в тексте, используя дек."
   ]
  },
  {
   "cell_type": "code",
   "execution_count": 12,
   "id": "known-leadership",
   "metadata": {},
   "outputs": [
    {
     "name": "stdout",
     "output_type": "stream",
     "text": [
      "Всё ок\n"
     ]
    }
   ],
   "source": [
    "check = Deque()\n",
    "\n",
    "with open('Lab4_Task/squareBrackets.txt', 'r') as brackets:    \n",
    "    while True:\n",
    "        char = brackets.read(1)\n",
    "        if not char:\n",
    "            break\n",
    "            \n",
    "        if char == '[':\n",
    "            check.pushRight(char)\n",
    "        elif char == ']':\n",
    "            if check.isEmpty():\n",
    "                break\n",
    "            check.popRight()\n",
    "            \n",
    "if check.isEmpty():\n",
    "    print('Всё ок')\n",
    "else:\n",
    "    print('Скобок не хватает')"
   ]
  },
  {
   "cell_type": "markdown",
   "id": "lovely-lunch",
   "metadata": {},
   "source": [
    "### Задача 6\n",
    "Дан файл из символов.  \n",
    "Используя стек, за один просмотр файла напечатать **сначала все цифры, затем все буквы, и, наконец, все остальные символы**, сохраняя\n",
    "исходный порядок в каждой группе символов."
   ]
  },
  {
   "cell_type": "code",
   "execution_count": 13,
   "id": "diverse-draft",
   "metadata": {},
   "outputs": [
    {
     "name": "stdout",
     "output_type": "stream",
     "text": [
      "196236432790qwezrtyuiopasdfghjklzxfvbnm/'=-,./\n"
     ]
    }
   ],
   "source": [
    "letters = Stack()  \n",
    "digits = Stack()\n",
    "others = Stack()\n",
    "result = ''\n",
    "\n",
    "with open('Lab4_Task/chars.txt', 'r') as f:\n",
    "    while True:\n",
    "        c = f.read(1)\n",
    "        if not c:\n",
    "            break   \n",
    "        if c.isalpha():\n",
    "            letters.push(c)\n",
    "        elif c.isdigit():\n",
    "            digits.push(c)\n",
    "        else:\n",
    "            others.push(c)\n",
    "            \n",
    "    letters.reverse()\n",
    "    digits.reverse()\n",
    "    others.reverse()   \n",
    "    \n",
    "    while not digits.isEmpty():\n",
    "        result += digits.pop()\n",
    "    while not letters.isEmpty():\n",
    "        result += letters.pop()\n",
    "    while not others.isEmpty():\n",
    "        result += others.pop()\n",
    "            \n",
    "print(result)"
   ]
  },
  {
   "cell_type": "markdown",
   "id": "protecting-parent",
   "metadata": {},
   "source": [
    "### Задача 7\n",
    "Дан файл из целых чисел. Используя дек, за один просмотр файла напечатать сначала все отрицательные числа, затем все положительные числа, сохраняя исходный порядок в каждой группе."
   ]
  },
  {
   "cell_type": "code",
   "execution_count": 31,
   "id": "imperial-newark",
   "metadata": {},
   "outputs": [
    {
     "name": "stdout",
     "output_type": "stream",
     "text": [
      "[-1, 2, 3, -4, 1, 4, -5, 2, -4, 2, 1, 3, 1, -10, 0, 10]\n",
      "-1\n",
      "-4\n",
      "-5\n",
      "-4\n",
      "-10\n",
      "2\n",
      "3\n",
      "\n",
      "1\n",
      "\n",
      "4\n",
      "\n",
      "2\n",
      "\n",
      "2\n",
      "\n",
      "1\n",
      "\n",
      "3\n",
      "\n",
      "1\n",
      "\n",
      "0\n",
      "\n",
      "10\n"
     ]
    }
   ],
   "source": [
    "with open('Lab4_Task/numbers.txt', 'r') as numbers:\n",
    "    d = Deque()\n",
    "    arr = []\n",
    "    for number in numbers:\n",
    "        arr.append(int(number))\n",
    "        if int(number) < 0:\n",
    "            d.pushLeft(number)\n",
    "        else:\n",
    "            d.pushRight(number)\n",
    "    print(arr)    \n",
    "    while not d.isEmpty():\n",
    "        x = int(d.popLeft().strip())\n",
    "        if x < 0:\n",
    "            d.pushRight(x)\n",
    "        else:\n",
    "            d.pushLeft(x)\n",
    "            break\n",
    "\n",
    "    while not d.isEmpty():\n",
    "        x = int(d.popRight())\n",
    "        if x < 0:\n",
    "            print(x)\n",
    "        else:\n",
    "            d.pushRight(x)\n",
    "            break\n",
    "\n",
    "    while not d.isEmpty():\n",
    "        print(d.popLeft())"
   ]
  },
  {
   "cell_type": "markdown",
   "id": "radical-fields",
   "metadata": {},
   "source": [
    "### Задача 8\n",
    "Дан текстовый файл. Используя стек, сформировать новый текстовый файл, содержащий строки исходного файла, записанные в обратном порядке: первая строка становится последней, вторая – предпоследней и т.д."
   ]
  },
  {
   "cell_type": "code",
   "execution_count": 38,
   "id": "hidden-threshold",
   "metadata": {},
   "outputs": [],
   "source": [
    "with open('Lab4_Task/text.txt', 'r') as text:\n",
    "    s = Stack()\n",
    "    for line in text:\n",
    "        s.push(line.strip())\n",
    "        \n",
    "f = open('Lab4_Task/reText.txt', 'w')\n",
    "while not s.isEmpty():\n",
    "    f.write(s.pop() + '\\n')\n",
    "f.close()"
   ]
  },
  {
   "cell_type": "markdown",
   "id": "polish-chart",
   "metadata": {},
   "source": [
    "### Задача 9\n",
    "Дан текстовый файл. Используя стек, вычислить значение логического выражения, записанного в текстовом файле в следующей форме ***(БЕЗ ПРОБЕЛОВ)***: \n",
    "\n",
    "    <ЛВ> :: = T | F | (N <ЛВ>) | (<ЛВ> A <ЛВ>) | (<ЛВ> X <ЛВ>) | (<ЛВ> O <ЛВ>),  \n",
    "где буквами обозначены логические константы и операции:\n",
    "\n",
    "    T – True, F – False, N – Not, A – And, X – Xor, O – Or."
   ]
  },
  {
   "cell_type": "code",
   "execution_count": null,
   "id": "finite-warrant",
   "metadata": {},
   "outputs": [],
   "source": []
  },
  {
   "cell_type": "markdown",
   "id": "copyrighted-default",
   "metadata": {},
   "source": [
    "### Задача 10\n",
    "Дан текстовый файл. В текстовом файле записана формула следующего вида:\n",
    "\n",
    "    <Формула> ::= <Цифра> | M(<Формула>,<Формула>) | N(Формула>,<Формула>)\n",
    "    <Цифра> ::= 0 | 1 | 2 | 3 | 4 | 5 | 6 | 7 | 8 | 9\n",
    "где буквами обозначены функции:\n",
    "\n",
    "    M – определение максимума, N – определение минимума.\n",
    "Используя стек, вычислить значение заданного выражения."
   ]
  },
  {
   "cell_type": "code",
   "execution_count": null,
   "id": "instant-dodge",
   "metadata": {},
   "outputs": [],
   "source": []
  },
  {
   "cell_type": "markdown",
   "id": "worthy-paris",
   "metadata": {},
   "source": [
    "### Задача 11\n",
    "Дан текстовый файл. Используя стек, проверить, является ли содержимое текстового файла правильной записью формулы вида:\n",
    "\n",
    "    < Формула > ::= < Терм > | < Терм > + < Формула > | < Терм > - < Формула >\n",
    "    < Терм > ::= < Имя > | (< Формула >)\n",
    "    < Имя > ::= x | y | z"
   ]
  },
  {
   "cell_type": "code",
   "execution_count": null,
   "id": "unknown-steel",
   "metadata": {},
   "outputs": [],
   "source": []
  }
 ],
 "metadata": {
  "kernelspec": {
   "display_name": "Python 3",
   "language": "python",
   "name": "python3"
  },
  "language_info": {
   "codemirror_mode": {
    "name": "ipython",
    "version": 3
   },
   "file_extension": ".py",
   "mimetype": "text/x-python",
   "name": "python",
   "nbconvert_exporter": "python",
   "pygments_lexer": "ipython3",
   "version": "3.9.1"
  }
 },
 "nbformat": 4,
 "nbformat_minor": 5
}
