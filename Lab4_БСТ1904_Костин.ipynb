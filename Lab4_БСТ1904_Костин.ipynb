{
 "cells": [
  {
   "cell_type": "markdown",
   "id": "electoral-hepatitis",
   "metadata": {},
   "source": [
    "# Лабораторная работа №4\n",
    "## Выполнил студент группы БСТ1904 Костин Антон Алексеевич\n",
    "\n",
    "Реализовать следующие структуры данных:\n",
    "\n",
    "● **Стек (stack)**:  \n",
    "*операции для стека:* инициализация, проверка на пустоту, добавление\n",
    "нового элемента в начало, извлечение элемента из начала;\n",
    "\n",
    "● **Дек (двусторонняя очередь, deque):**   \n",
    "*операции для дека:* инициализация, проверка на пустоту, добавление\n",
    "нового элемента в начало, добавление нового элемента в конец,\n",
    "извлечение элемента из начала, извлечение элемента из конца.\n"
   ]
  },
  {
   "cell_type": "markdown",
   "id": "imposed-relations",
   "metadata": {},
   "source": [
    "#### Стэк"
   ]
  },
  {
   "cell_type": "code",
   "execution_count": 2,
   "id": "ethical-wrist",
   "metadata": {},
   "outputs": [],
   "source": [
    "class Stack:\n",
    "    # Инициализация\n",
    "    def __init__(self):\n",
    "        self.items = []\n",
    "    \n",
    "    # Проверка на пустоту\n",
    "    def isEmpty(items):\n",
    "        return self.items == []\n",
    "    \n",
    "    # Добавление нового элемента в начало\n",
    "    def push(self, item):\n",
    "        self.items.append(item)\n",
    "    \n",
    "    # Извлечение элемента из начала\n",
    "    def pop(self):\n",
    "        return self.items.pop()\n",
    "    \n",
    "    # Дополнительно\n",
    "    # Размер\n",
    "    def size(self):\n",
    "        return len(self.items)\n",
    "    \n",
    "    # Посмотреть первый элемент\n",
    "    def peek(self):\n",
    "        return self.items[len(self.items) - 1]"
   ]
  },
  {
   "cell_type": "markdown",
   "id": "proprietary-traffic",
   "metadata": {},
   "source": [
    "#### Дэк"
   ]
  },
  {
   "cell_type": "code",
   "execution_count": null,
   "id": "disciplinary-bikini",
   "metadata": {},
   "outputs": [],
   "source": [
    "class Deque:\n",
    "    # Инициализация\n",
    "    def __init__(self):\n",
    "        self.items = []\n",
    "\n",
    "    # Проверка на пустоту\n",
    "    def isEmpty(self):\n",
    "        return self.items == []\n",
    "\n",
    "    # Добавление в начало\n",
    "    def pushFront(self, item):\n",
    "        self.items.append(item)\n",
    "\n",
    "    # Добавление в конец\n",
    "    def pushBack(self, item):\n",
    "        self.items.insert(0, item)\n",
    "    \n",
    "    # Извлечение элемента из начала\n",
    "    def popFront(self):\n",
    "        return self.items.pop()\n",
    "\n",
    "    # Извлечение элемента из конца\n",
    "    def popBack(self):\n",
    "        return self.items.pop(0)\n",
    "\n",
    "    # Размер\n",
    "    def size(self):\n",
    "        return len(self.items)"
   ]
  },
  {
   "cell_type": "markdown",
   "id": "ancient-coupon",
   "metadata": {},
   "source": [
    "### Задачи\n",
    "1. Отсортировать строки файла, содержащие названия книг, в алфавитном порядке с использованием двух *деков*."
   ]
  },
  {
   "cell_type": "code",
   "execution_count": null,
   "id": "cloudy-fields",
   "metadata": {},
   "outputs": [],
   "source": []
  }
 ],
 "metadata": {
  "kernelspec": {
   "display_name": "Python 3",
   "language": "python",
   "name": "python3"
  },
  "language_info": {
   "codemirror_mode": {
    "name": "ipython",
    "version": 3
   },
   "file_extension": ".py",
   "mimetype": "text/x-python",
   "name": "python",
   "nbconvert_exporter": "python",
   "pygments_lexer": "ipython3",
   "version": "3.9.1"
  }
 },
 "nbformat": 4,
 "nbformat_minor": 5
}
