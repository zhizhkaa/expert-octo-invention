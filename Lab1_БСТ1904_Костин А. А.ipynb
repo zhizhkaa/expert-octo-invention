{
 "cells": [
  {
   "cell_type": "markdown",
   "id": "italic-murray",
   "metadata": {},
   "source": [
    "# Лабораторная работа №1\n",
    "## Выполнил студент группы БСТ1904 Костин Антон Алексеевич\n",
    "### Задание №1"
   ]
  },
  {
   "cell_type": "code",
   "execution_count": 1,
   "id": "wicked-princeton",
   "metadata": {},
   "outputs": [
    {
     "name": "stdout",
     "output_type": "stream",
     "text": [
      "Hello World!\n"
     ]
    }
   ],
   "source": [
    "print(\"Hello World!\")"
   ]
  },
  {
   "cell_type": "markdown",
   "id": "considered-contrast",
   "metadata": {},
   "source": [
    "### Задание №2\n",
    "\n",
    "Написать генератор случайных матриц (многомерных), который принимает\n",
    "опциональные параметры m, n, min_limit, max_limit, где m и n указывают размер\n",
    "матрицы, а min_lim и max_lim - минимальное и максимальное значение для\n",
    "генерируемого числа."
   ]
  },
  {
   "cell_type": "code",
   "execution_count": 6,
   "id": "moderate-variety",
   "metadata": {
    "scrolled": true
   },
   "outputs": [
    {
     "name": "stdout",
     "output_type": "stream",
     "text": [
      "[[-142, 375, 842, -85, 274, 187, 818, 808, 1004, 848], [98, -102, -58, 360, 787, -26, 96, 530, 892, -4], [61, 226, 619, 232, 499, -32, 917, 459, 379, 107], [493, 398, 798, 213, -152, 813, 467, 160, 134, -17], [470, 297, 82, 59, 764, 753, -103, 164, 666, 410], [275, 491, 983, -84, 597, 669, 836, 668, -176, 630], [959, 680, -55, 394, 147, 324, 169, 61, 281, -36]]\n"
     ]
    }
   ],
   "source": [
    "import random\n",
    "\n",
    "m = 7\n",
    "n = 10\n",
    "min_limit = -250\n",
    "max_limit = 1000 + 10\n",
    "mas1 = []\n",
    "\n",
    "for j in range(m):\n",
    "    mas2 = []\n",
    "    for i in range(n):\n",
    "        mas2.append(random.randint(min_limit,max_limit))\n",
    "    mas1.append(mas2)\n",
    "print(mas1)"
   ]
  },
  {
   "cell_type": "markdown",
   "id": "rotary-republic",
   "metadata": {},
   "source": [
    "### Задание 3\n",
    "\n",
    "Реализовать методы сортировки строк числовой матрицы в соответствии с\n",
    "заданием. Оценить время работы каждого алгоритма сортировки и сравнить его со\n",
    "временем стандартной функции сортировки. Испытания проводить на сгенерированных\n",
    "матрицах.\n"
   ]
  },
  {
   "cell_type": "code",
   "execution_count": 2,
   "id": "steady-plaza",
   "metadata": {},
   "outputs": [
    {
     "ename": "NameError",
     "evalue": "name 'mas1' is not defined",
     "output_type": "error",
     "traceback": [
      "\u001b[1;31m---------------------------------------------------------------------------\u001b[0m",
      "\u001b[1;31mNameError\u001b[0m                                 Traceback (most recent call last)",
      "\u001b[1;32m<ipython-input-2-042acc4fe9c6>\u001b[0m in \u001b[0;36m<module>\u001b[1;34m\u001b[0m\n\u001b[1;32m----> 1\u001b[1;33m \u001b[0mprint\u001b[0m\u001b[1;33m(\u001b[0m\u001b[0mmas1\u001b[0m\u001b[1;33m)\u001b[0m\u001b[1;33m\u001b[0m\u001b[1;33m\u001b[0m\u001b[0m\n\u001b[0m",
      "\u001b[1;31mNameError\u001b[0m: name 'mas1' is not defined"
     ]
    }
   ],
   "source": []
  },
  {
   "cell_type": "markdown",
   "id": "flying-package",
   "metadata": {},
   "source": [
    "### Задание 4\n",
    "\n",
    "Создать публичный репозиторий на github, и запушить выполненное задание в .ipynb формате.\n"
   ]
  }
 ],
 "metadata": {
  "kernelspec": {
   "display_name": "Python 3",
   "language": "python",
   "name": "python3"
  },
  "language_info": {
   "codemirror_mode": {
    "name": "ipython",
    "version": 3
   },
   "file_extension": ".py",
   "mimetype": "text/x-python",
   "name": "python",
   "nbconvert_exporter": "python",
   "pygments_lexer": "ipython3",
   "version": "3.9.1"
  }
 },
 "nbformat": 4,
 "nbformat_minor": 5
}
