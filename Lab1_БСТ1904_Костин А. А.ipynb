{
 "cells": [
  {
   "cell_type": "markdown",
   "id": "harmful-programming",
   "metadata": {},
   "source": [
    "# Лабораторная работа №1\n",
    "## Выполнил студент группы БСТ1904 Костин Антон Алексеевич\n",
    "### Задание №1\n",
    "### Вариант 10\n",
    "\n",
    "1. Создать Jupyter Notebook со следующим наименованием: Lab1_Группа_ФИО\n",
    "2. Создать новую ячейку\n",
    "3. В созданной ячейке по указанной ниже форме заполните оглавление файла\n",
    "4. С помощью кнопки запустите выполнение всех ячеек\n",
    "5. После выполнения у вас должна отформатироваться ячейка с оглавлением и должен выполниться “Hello, World!”"
   ]
  },
  {
   "cell_type": "code",
   "execution_count": 6,
   "id": "virgin-peter",
   "metadata": {},
   "outputs": [
    {
     "name": "stdout",
     "output_type": "stream",
     "text": [
      "Hello World!\n"
     ]
    }
   ],
   "source": [
    "print(\"Hello World!\")"
   ]
  },
  {
   "cell_type": "markdown",
   "id": "oriented-chase",
   "metadata": {},
   "source": [
    "### Задание №2\n",
    "\n",
    "Написать генератор случайных матриц (многомерных), который принимает\n",
    "опциональные параметры m, n, min_limit, max_limit, где m и n указывают размер\n",
    "матрицы, а min_lim и max_lim - минимальное и максимальное значение для\n",
    "генерируемого числа."
   ]
  },
  {
   "cell_type": "code",
   "execution_count": 7,
   "id": "basic-monster",
   "metadata": {
    "scrolled": true
   },
   "outputs": [],
   "source": [
    "import random\n",
    "m = 50\n",
    "n = 50\n",
    "min_limit = -250\n",
    "max_limit = 1000 + 10\n",
    "mas1 = []\n",
    "\n",
    "for j in range(m):\n",
    "    mas2 = []\n",
    "    for i in range(n):\n",
    "        mas2.append(random.randint(min_limit,max_limit))\n",
    "    mas1.append(mas2)"
   ]
  },
  {
   "cell_type": "markdown",
   "id": "photographic-cause",
   "metadata": {},
   "source": [
    "### Задание 3\n",
    "\n",
    "Реализовать методы сортировки строк числовой матрицы в соответствии с\n",
    "заданием. Оценить время работы каждого алгоритма сортировки и сравнить его со\n",
    "временем стандартной функции сортировки. Испытания проводить на сгенерированных\n",
    "матрицах.\n",
    "\n",
    "Методы:\n",
    "\n",
    "|Выбором|Вставкой|Обменом|Шелла|Турнирная|Быстрая сортировка|Пирамидальная|\n",
    "|------|------|------|------|------|------|------|\n"
   ]
  },
  {
   "cell_type": "code",
   "execution_count": 11,
   "id": "persistent-cocktail",
   "metadata": {},
   "outputs": [],
   "source": [
    "#Сортировка выбором\n",
    "def selection_sort(array):\n",
    "    for i in range(1, len(array)):\n",
    "        m = i\n",
    "        j = j + 1\n",
    "        while j < len(array):\n",
    "            if array[j] < array[m]:\n",
    "                m = j\n",
    "            j += 1\n",
    "        array[i], array[m] = array[m], array[i]"
   ]
  },
  {
   "cell_type": "code",
   "execution_count": 10,
   "id": "round-implementation",
   "metadata": {},
   "outputs": [],
   "source": [
    "#Сортировка вставкой\n",
    "def insertion_sort(array):\n",
    "    for i in range(1, len(array)):\n",
    "        k = array[i]\n",
    "        j = i - 1\n",
    "        while j >= 0 and k < array[j] :\n",
    "            array[j + 1] = array[j]\n",
    "            j -= 1\n",
    "        array[j + 1] = k "
   ]
  },
  {
   "cell_type": "code",
   "execution_count": 12,
   "id": "appreciated-connecticut",
   "metadata": {},
   "outputs": [],
   "source": [
    "#Сортировка обменом\n",
    "def bubble_sort(array):\n",
    "    for i in range(len(array)):\n",
    "        for j in range(len(array) - 1 - i):\n",
    "            if array[j] > array[j + 1] : \n",
    "                array[j], array[j + 1] = array[j + 1], array[j]"
   ]
  },
  {
   "cell_type": "code",
   "execution_count": 19,
   "id": "documented-florist",
   "metadata": {},
   "outputs": [],
   "source": [
    "#Сортировка Шелла\n",
    "def shell_sort(array):\n",
    "    last_index = len(array) - 1\n",
    "    step = len(array)//2\n",
    "    while step > 0:\n",
    "        for i in range(step, last_index + 1, 1):\n",
    "            j = i\n",
    "            d = j - step\n",
    "            while d >= 0 and array[d] > array[j]:\n",
    "                array[d], array[j] = array[j], array[d]\n",
    "                j = d\n",
    "                d = j - step\n",
    "        step //= 2"
   ]
  },
  {
   "cell_type": "code",
   "execution_count": null,
   "id": "understanding-timothy",
   "metadata": {},
   "outputs": [],
   "source": [
    "#Турнирная сортировка\n",
    "def tour_sort(array):\n",
    "    "
   ]
  },
  {
   "cell_type": "code",
   "execution_count": 13,
   "id": "professional-proceeding",
   "metadata": {},
   "outputs": [],
   "source": [
    "#Быстрая сортировка\n",
    "def quick_sort(array):\n",
    "    q = random.choice(array)\n",
    "    sarr = []\n",
    "    marr = []\n",
    "    earr = []\n",
    "    for n in nums:\n",
    "        if n < q:\n",
    "            sarr.append(n)\n",
    "        elif n > q:\n",
    "            marr.append(n)\n",
    "        else:\n",
    "            earr.append(n)\n",
    "    return quick_sort(sarr) + earr + quick_sort(marr)"
   ]
  },
  {
   "cell_type": "code",
   "execution_count": 18,
   "id": "furnished-edward",
   "metadata": {},
   "outputs": [],
   "source": [
    "#Пирамидальная сортировка\n",
    "def heap(array, heap_size, root_index): \n",
    "    largest = root_index\n",
    "    left_child = (2 * root_index) + 1\n",
    "    right_child = (2 * root_index) + 2\n",
    "\n",
    "    if left_child < heap_size and array[left_child] > array[largest]:\n",
    "        largest = left_child\n",
    "    if right_child < heap_size and array[right_child] > array[largest]:\n",
    "        largest = right_child\n",
    "    if largest != root_index:\n",
    "        array[root_index], array[largest] = array[largest], array[root_index]\n",
    "        pyram_sort(array, heap_size, largest)\n",
    "\n",
    "def pyram_sort(array):  \n",
    "    for i in range(len(array), -1, -1):\n",
    "        heap(array, len(array), i)\n",
    "        \n",
    "    for i in range(len(array) - 1, 0, -1):\n",
    "        array[i], nums[0] = array[0], array[i]\n",
    "        heap(array, i, 0)"
   ]
  },
  {
   "cell_type": "markdown",
   "id": "exciting-trinidad",
   "metadata": {},
   "source": [
    "### Задание 4\n",
    "\n",
    "Создать публичный репозиторий на github, и запушить выполненное задание в .ipynb формате.\n"
   ]
  }
 ],
 "metadata": {
  "kernelspec": {
   "display_name": "Python 3",
   "language": "python",
   "name": "python3"
  },
  "language_info": {
   "codemirror_mode": {
    "name": "ipython",
    "version": 3
   },
   "file_extension": ".py",
   "mimetype": "text/x-python",
   "name": "python",
   "nbconvert_exporter": "python",
   "pygments_lexer": "ipython3",
   "version": "3.9.1"
  }
 },
 "nbformat": 4,
 "nbformat_minor": 5
}
