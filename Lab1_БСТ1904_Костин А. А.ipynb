{
 "cells": [
  {
   "cell_type": "markdown",
   "id": "determined-wilson",
   "metadata": {},
   "source": [
    "# Лабораторная работа №1\n",
    "## Выполнил студент группы БСТ1904 Костин Антон Алексеевич\n",
    "### Задание №1\n",
    "### Вариант 10\n",
    "\n",
    "1. Создать Jupyter Notebook со следующим наименованием: Lab1_Группа_ФИО\n",
    "2. Создать новую ячейку\n",
    "3. В созданной ячейке по указанной ниже форме заполните оглавление файла\n",
    "4. С помощью кнопки запустите выполнение всех ячеек\n",
    "5. После выполнения у вас должна отформатироваться ячейка с оглавлением и должен выполниться “Hello, World!”"
   ]
  },
  {
   "cell_type": "code",
   "execution_count": 6,
   "id": "random-jerusalem",
   "metadata": {},
   "outputs": [
    {
     "name": "stdout",
     "output_type": "stream",
     "text": [
      "Hello World!\n"
     ]
    }
   ],
   "source": [
    "print(\"Hello World!\")"
   ]
  },
  {
   "cell_type": "markdown",
   "id": "animal-genetics",
   "metadata": {},
   "source": [
    "### Задание №2\n",
    "\n",
    "Написать генератор случайных матриц (многомерных), который принимает\n",
    "опциональные параметры m, n, min_limit, max_limit, где m и n указывают размер\n",
    "матрицы, а min_lim и max_lim - минимальное и максимальное значение для\n",
    "генерируемого числа."
   ]
  },
  {
   "cell_type": "code",
   "execution_count": 3,
   "id": "cross-advantage",
   "metadata": {
    "scrolled": true
   },
   "outputs": [],
   "source": [
    "import random\n",
    "def mas_gen(m, n, min_limit, max_limit):\n",
    "    mas1 = []\n",
    "\n",
    "    for j in range(m):\n",
    "        mas2 = []\n",
    "        for i in range(n):\n",
    "            mas2.append(random.randint(min_limit,max_limit))\n",
    "        mas1.append(mas2)\n",
    "    return(mas1)"
   ]
  },
  {
   "cell_type": "markdown",
   "id": "exterior-castle",
   "metadata": {},
   "source": [
    "### Задание 3\n",
    "\n",
    "Реализовать методы сортировки строк числовой матрицы в соответствии с\n",
    "заданием. Оценить время работы каждого алгоритма сортировки и сравнить его со\n",
    "временем стандартной функции сортировки. Испытания проводить на сгенерированных\n",
    "матрицах.\n",
    "\n",
    "Методы:\n",
    "\n",
    "|Выбором|Вставкой|Обменом|Шелла|Турнирная|Быстрая сортировка|Пирамидальная|\n",
    "|------|------|------|------|------|------|------|\n"
   ]
  },
  {
   "cell_type": "code",
   "execution_count": 28,
   "id": "chinese-richardson",
   "metadata": {},
   "outputs": [],
   "source": [
    "#Сортировка выбором\n",
    "def selection_sort(array):\n",
    "    for i in range(len(array) - 1):\n",
    "        m = i\n",
    "        j = i + 1\n",
    "        while j < len(array):\n",
    "            if array[j] < array[m]:\n",
    "                m = j\n",
    "            j = j + 1\n",
    "        array[i], array[m] = array[m], array[i]"
   ]
  },
  {
   "cell_type": "code",
   "execution_count": 29,
   "id": "sealed-infection",
   "metadata": {},
   "outputs": [],
   "source": [
    "#Сортировка вставкой\n",
    "def insertion_sort(array):\n",
    "    for i in range(1, len(array)):\n",
    "        k = array[i]\n",
    "        j = i - 1\n",
    "        while j >= 0 and k < array[j] :\n",
    "            array[j + 1] = array[j]\n",
    "            j -= 1\n",
    "        array[j + 1] = k \n",
    "    return(array)"
   ]
  },
  {
   "cell_type": "code",
   "execution_count": 30,
   "id": "supreme-registrar",
   "metadata": {},
   "outputs": [],
   "source": [
    "#Сортировка обменом\n",
    "#Сравниваем два соседних элемента массива, пока массив не отсортирован\n",
    "def bubble_sort(array):\n",
    "    for i in range(len(array)):\n",
    "        for j in range(len(array) - 1 - i):\n",
    "            if array[j] > array[j + 1] : \n",
    "                array[j], array[j + 1] = array[j + 1], array[j]"
   ]
  },
  {
   "cell_type": "code",
   "execution_count": 31,
   "id": "destroyed-peeing",
   "metadata": {},
   "outputs": [],
   "source": [
    "#Сортировка Шелла\n",
    "def shell_sort(array):\n",
    "    last_index = len(array) - 1\n",
    "    step = len(array)//2\n",
    "    while step > 0:\n",
    "        for i in range(step, last_index + 1, 1):\n",
    "            j = i\n",
    "            d = j - step\n",
    "            while d >= 0 and array[d] > array[j]:\n",
    "                array[d], array[j] = array[j], array[d]\n",
    "                j = d\n",
    "                d = j - step\n",
    "        step //= 2"
   ]
  },
  {
   "cell_type": "code",
   "execution_count": 41,
   "id": "cubic-adobe",
   "metadata": {},
   "outputs": [],
   "source": [
    "#Турнирная сортировка\n",
    "def tournament_sort(arr):\n",
    "    tree = [None] * 2 * (len(arr) + len(arr) % 2)\n",
    "    index = len(tree) - len(arr) - len(arr) % 2\n",
    "    \n",
    "    for i, v in enumerate(arr):\n",
    "        tree[index + i] = (i, v)  \n",
    "    for j in range(len(arr)):\n",
    "        n = len(arr)\n",
    "        index = len(tree) - len(arr) - len(arr) % 2\n",
    "        while index > -1:\n",
    "            n = (n + 1) // 2\n",
    "            for i in range(n):\n",
    "                i = max(index + i * 2, 1) # на последней итерация index + i * 2 = 0\n",
    "                if tree[i] != None and tree[i + 1] != None:\n",
    "                    if tree[i][1] < tree[i + 1][1]:\n",
    "                        tree[i // 2] = tree[i]\n",
    "                    else:\n",
    "                        tree[i // 2] = tree[i + 1]\n",
    "                else:\n",
    "                    tree[i // 2] = tree[i] if tree[i] != None else tree[i + 1]\n",
    "            index -= n\n",
    "        index, x = tree[0]\n",
    "        arr[j] = x\n",
    "        tree[len(tree) - len(arr) - len(arr) % 2 + index] = None"
   ]
  },
  {
   "cell_type": "code",
   "execution_count": 55,
   "id": "lonely-renewal",
   "metadata": {},
   "outputs": [],
   "source": [
    "#Быстрая сортировка\n",
    "def quick_sort(array):\n",
    "    q = random.choice(array)\n",
    "    sarr = []\n",
    "    marr = []\n",
    "    earr = []\n",
    "    for n in array:\n",
    "        if n < q:\n",
    "            sarr.append(n)\n",
    "        elif n > q:\n",
    "            marr.append(n)\n",
    "        else:\n",
    "            earr.append(n)\n",
    "    quick_sort(sarr) + earr + quick_sort(marr)"
   ]
  },
  {
   "cell_type": "code",
   "execution_count": 56,
   "id": "latter-complaint",
   "metadata": {},
   "outputs": [],
   "source": [
    "#Пирамидальная сортировка\n",
    "def heap(array, heap_size, root_index): \n",
    "    largest = root_index\n",
    "    left_child = (2 * root_index) + 1\n",
    "    right_child = (2 * root_index) + 2\n",
    "\n",
    "    if left_child < heap_size and array[left_child] > array[largest]:\n",
    "        largest = left_child\n",
    "    if right_child < heap_size and array[right_child] > array[largest]:\n",
    "        largest = right_child\n",
    "    if largest != root_index:\n",
    "        array[root_index], array[largest] = array[largest], array[root_index]\n",
    "        heap(array, heap_size, largest)\n",
    "\n",
    "def pyramid_sort(array):  \n",
    "    for i in range(len(array), -1, -1):\n",
    "        heap(array, len(array), i)\n",
    "        \n",
    "    for i in range(len(array) - 1, 0, -1):\n",
    "        array[i], array[0] = array[0], array[i]\n",
    "        heap(array, i, 0)"
   ]
  },
  {
   "cell_type": "code",
   "execution_count": 60,
   "id": "medium-family",
   "metadata": {},
   "outputs": [
    {
     "name": "stdout",
     "output_type": "stream",
     "text": [
      "Матрица: \n",
      "[970, 480, 213, 927, 415, 558, 31, 696, 480, 563, -45, 467, 762, 343, -221, 422, 639, 441, -183, 370]\n",
      "[548, 28, -140, 388, 118, 281, 142, -231, 241, 244, 168, 531, 103, 920, 884, -244, 396, 683, 212, 656]\n",
      "[408, 847, 289, 220, 663, -12, 942, 140, 667, 384, 30, 92, 87, -217, 991, 957, 623, 28, 755, 642]\n",
      "[4, -220, -84, 236, 1001, 634, 756, 631, 46, 728, 143, 371, -156, 629, 900, 649, 309, 498, 426, 767]\n",
      "[572, 269, 611, 125, -198, -23, 327, 426, 713, 423, 781, 793, -168, 609, 874, 289, 173, 257, -154, 188]\n",
      "[160, 582, 398, 364, 174, -30, 292, -138, 864, 368, 750, -47, 332, 927, 116, -166, 538, 84, -205, 527]\n",
      "[-54, 996, 1007, 581, 314, 890, 967, 133, 839, 112, 869, 447, 505, 924, 769, 729, 371, 449, 597, -83]\n",
      "\n",
      "Сортировки\n",
      "\n",
      "Сортировка выбором\n",
      "Время: 0.015662499999962165 \n",
      " [-221, -183, -45, 31, 213, 343, 370, 415, 422, 441, 467, 480, 480, 558, 563, 639, 696, 762, 927, 970]\n",
      "\n",
      "Сортировка вставкой\n",
      "Время: 0.1611692999999832 \n",
      " [-244, -231, -140, 28, 103, 118, 142, 168, 212, 241, 244, 281, 388, 396, 531, 548, 656, 683, 884, 920]\n",
      "\n",
      "Сортировка обменом\n",
      "Время: 0.013080899999977191 \n",
      " [-217, -12, 28, 30, 87, 92, 140, 220, 289, 384, 408, 623, 642, 663, 667, 755, 847, 942, 957, 991]\n",
      "\n",
      "Сортировка Шелла\n",
      "Время: 0.013600399999859292 \n",
      " [-220, -156, -84, 4, 46, 143, 236, 309, 371, 426, 498, 629, 631, 634, 649, 728, 756, 767, 900, 1001]\n",
      "\n",
      "Турнирная сортировка\n",
      "Время: 0.013320399999884103 \n",
      " [-198, -168, -154, -23, 125, 173, 188, 257, 269, 289, 327, 423, 426, 572, 609, 611, 713, 781, 793, 874]\n",
      "\n",
      "Пирамидальная сортировка\n",
      "Время: 0.013003399999888643 \n",
      " [-205, -166, -138, -47, -30, 84, 116, 160, 174, 292, 332, 364, 368, 398, 527, 538, 582, 750, 864, 927]\n",
      "\n",
      "Встроенная сортировка\n",
      "Время: 0.12317869999992581 \n",
      " [-54, 996, 1007, 581, 314, 890, 967, 133, 839, 112, 869, 447, 505, 924, 769, 729, 371, 449, 597, -83]\n"
     ]
    }
   ],
   "source": [
    "import timeit\n",
    "\n",
    "mat = mas_gen(7, 20, -250, 1010)\n",
    "\n",
    "print(\"Матрица: \")\n",
    "for i in range(0,7):\n",
    "    print(mat[i])\n",
    "print(\"\\nСортировки\")\n",
    "\n",
    "print(\"\\nСортировка выбором\\nВремя:\",       timeit.timeit(str(selection_sort(mat[0]))), '\\n', mat[0])\n",
    "print(\"\\nСортировка вставкой\\nВремя:\",      timeit.timeit(str(insertion_sort(mat[1]))), '\\n', mat[1])\n",
    "print(\"\\nСортировка обменом\\nВремя:\",       timeit.timeit(str(bubble_sort(mat[2]))), '\\n', mat[2])\n",
    "print(\"\\nСортировка Шелла\\nВремя:\",         timeit.timeit(str(shell_sort(mat[3]))), '\\n', mat[3])\n",
    "print(\"\\nТурнирная сортировка\\nВремя:\",     timeit.timeit(str(tournament_sort(mat[4]))), '\\n', mat[4])\n",
    "print(\"\\nПирамидальная сортировка\\nВремя:\", timeit.timeit(str(pyramid_sort(mat[5]))), '\\n', mat[5])\n",
    "print(\"\\nВстроенная сортировка\\nВремя:\",    timeit.timeit(str(sorted(mat[6]))), '\\n', mat[6])"
   ]
  },
  {
   "cell_type": "markdown",
   "id": "cloudy-marathon",
   "metadata": {},
   "source": [
    "### Задание 4\n",
    "\n",
    "Создать публичный репозиторий на github, и запушить выполненное задание в .ipynb формате.\n",
    "\n",
    "https://github.com/zhizhkaa/expert-octo-invention/blob/main/Lab1_%D0%91%D0%A1%D0%A21904_%D0%9A%D0%BE%D1%81%D1%82%D0%B8%D0%BD%20%D0%90.%20%D0%90.ipynb\n"
   ]
  },
  {
   "cell_type": "code",
   "execution_count": null,
   "id": "prerequisite-marine",
   "metadata": {},
   "outputs": [],
   "source": []
  }
 ],
 "metadata": {
  "kernelspec": {
   "display_name": "Python 3",
   "language": "python",
   "name": "python3"
  },
  "language_info": {
   "codemirror_mode": {
    "name": "ipython",
    "version": 3
   },
   "file_extension": ".py",
   "mimetype": "text/x-python",
   "name": "python",
   "nbconvert_exporter": "python",
   "pygments_lexer": "ipython3",
   "version": "3.9.1"
  }
 },
 "nbformat": 4,
 "nbformat_minor": 5
}
