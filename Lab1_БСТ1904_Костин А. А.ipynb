{
 "cells": [
  {
   "cell_type": "markdown",
   "id": "endless-contamination",
   "metadata": {},
   "source": [
    "# Лабораторная работа №1\n",
    "## Выполнил студент группы БСТ1904 Костин Антон Алексеевич\n",
    "### Задание №1\n",
    "### Вариант 10\n",
    "\n",
    "1. Создать Jupyter Notebook со следующим наименованием: Lab1_Группа_ФИО\n",
    "2. Создать новую ячейку\n",
    "3. В созданной ячейке по указанной ниже форме заполните оглавление файла\n",
    "4. С помощью кнопки запустите выполнение всех ячеек\n",
    "5. После выполнения у вас должна отформатироваться ячейка с оглавлением и должен выполниться “Hello, World!”"
   ]
  },
  {
   "cell_type": "code",
   "execution_count": 6,
   "id": "worst-afghanistan",
   "metadata": {},
   "outputs": [
    {
     "name": "stdout",
     "output_type": "stream",
     "text": [
      "Hello World!\n"
     ]
    }
   ],
   "source": [
    "print(\"Hello World!\")"
   ]
  },
  {
   "cell_type": "markdown",
   "id": "presidential-applicant",
   "metadata": {},
   "source": [
    "### Задание №2\n",
    "\n",
    "Написать генератор случайных матриц (многомерных), который принимает\n",
    "опциональные параметры m, n, min_limit, max_limit, где m и n указывают размер\n",
    "матрицы, а min_lim и max_lim - минимальное и максимальное значение для\n",
    "генерируемого числа."
   ]
  },
  {
   "cell_type": "code",
   "execution_count": 2,
   "id": "urban-proxy",
   "metadata": {
    "scrolled": true
   },
   "outputs": [],
   "source": [
    "import random\n",
    "def mas_gen(m, n, min_limit, max_limit):\n",
    "    mas1 = []\n",
    "\n",
    "    for j in range(m):\n",
    "        mas2 = []\n",
    "        for i in range(n):\n",
    "            mas2.append(random.randint(min_limit,max_limit))\n",
    "        mas1.append(mas2)\n",
    "    return(mas1)"
   ]
  },
  {
   "cell_type": "markdown",
   "id": "cross-nigeria",
   "metadata": {},
   "source": [
    "### Задание 3\n",
    "\n",
    "Реализовать методы сортировки строк числовой матрицы в соответствии с\n",
    "заданием. Оценить время работы каждого алгоритма сортировки и сравнить его со\n",
    "временем стандартной функции сортировки. Испытания проводить на сгенерированных\n",
    "матрицах.\n",
    "\n",
    "Методы:\n",
    "\n",
    "|Выбором|Вставкой|Обменом|Шелла|Турнирная|Быстрая сортировка|Пирамидальная|\n",
    "|------|------|------|------|------|------|------|\n"
   ]
  },
  {
   "cell_type": "code",
   "execution_count": 3,
   "id": "hairy-description",
   "metadata": {},
   "outputs": [],
   "source": [
    "#Сортировка выбором\n",
    "def selection_sort(array):\n",
    "    for i in range(len(array) - 1):\n",
    "        m = i\n",
    "        j = i + 1\n",
    "        while j < len(array):\n",
    "            if array[j] < array[m]:\n",
    "                m = j\n",
    "            j += 1\n",
    "        array[i], array[m] = array[m], array[i]"
   ]
  },
  {
   "cell_type": "code",
   "execution_count": 4,
   "id": "final-assist",
   "metadata": {},
   "outputs": [],
   "source": [
    "#Сортировка вставкой\n",
    "def insertion_sort(array):\n",
    "    for i in range(1, len(array)):\n",
    "        k = array[i]\n",
    "        j = i - 1\n",
    "        while j >= 0 and k < array[j] :\n",
    "            array[j + 1] = array[j]\n",
    "            j -= 1\n",
    "        array[j + 1] = k \n",
    "    return(array)"
   ]
  },
  {
   "cell_type": "code",
   "execution_count": 5,
   "id": "pregnant-portuguese",
   "metadata": {},
   "outputs": [],
   "source": [
    "#Сортировка обменом\n",
    "#Сравниваем два соседних элемента массива, пока массив не отсортирован\n",
    "def bubble_sort(array):\n",
    "    for i in range(len(array)):\n",
    "        for j in range(len(array) - 1 - i):\n",
    "            if array[j] > array[j + 1] : \n",
    "                array[j], array[j + 1] = array[j + 1], array[j]"
   ]
  },
  {
   "cell_type": "code",
   "execution_count": 6,
   "id": "smart-middle",
   "metadata": {},
   "outputs": [],
   "source": [
    "#Сортировка Шелла\n",
    "def shell_sort(array):\n",
    "    last_index = len(array) - 1\n",
    "    step = len(array)//2\n",
    "    while step > 0:\n",
    "        for i in range(step, last_index + 1, 1):\n",
    "            j = i\n",
    "            d = j - step\n",
    "            while d >= 0 and array[d] > array[j]:\n",
    "                array[d], array[j] = array[j], array[d]\n",
    "                j = d\n",
    "                d = j - step\n",
    "        step //= 2"
   ]
  },
  {
   "cell_type": "code",
   "execution_count": 7,
   "id": "hollywood-register",
   "metadata": {},
   "outputs": [],
   "source": [
    "#Турнирная сортировка\n",
    "def tournament_sort(arr):\n",
    "    tree = [None] * 2 * (len(arr) + len(arr) % 2)\n",
    "    index = len(tree) - len(arr) - len(arr) % 2\n",
    "    \n",
    "    for i, v in enumerate(arr):\n",
    "        tree[index + i] = (i, v)  \n",
    "    for j in range(len(arr)):\n",
    "        n = len(arr)\n",
    "        index = len(tree) - len(arr) - len(arr) % 2\n",
    "        while index > -1:\n",
    "            n = (n + 1) // 2\n",
    "            for i in range(n):\n",
    "                i = max(index + i * 2, 1) # на последней итерация index + i * 2 = 0\n",
    "                if tree[i] != None and tree[i + 1] != None:\n",
    "                    if tree[i][1] < tree[i + 1][1]:\n",
    "                        tree[i // 2] = tree[i]\n",
    "                    else:\n",
    "                        tree[i // 2] = tree[i + 1]\n",
    "                else:\n",
    "                    tree[i // 2] = tree[i] if tree[i] != None else tree[i + 1]\n",
    "            index -= n\n",
    "        index, x = tree[0]\n",
    "        arr[j] = x\n",
    "        tree[len(tree) - len(arr) - len(arr) % 2 + index] = None"
   ]
  },
  {
   "cell_type": "code",
   "execution_count": 8,
   "id": "victorian-bedroom",
   "metadata": {},
   "outputs": [],
   "source": [
    "#Быстрая сортировка\n",
    "def quick_sort(array):\n",
    "    q = random.choice(array)\n",
    "    sarr = []\n",
    "    marr = []\n",
    "    earr = []\n",
    "    for n in array:\n",
    "        if n < q:\n",
    "            sarr.append(n)\n",
    "        elif n > q:\n",
    "            marr.append(n)\n",
    "        else:\n",
    "            earr.append(n)\n",
    "    quick_sort(sarr) + earr + quick_sort(marr)"
   ]
  },
  {
   "cell_type": "code",
   "execution_count": 9,
   "id": "urban-lodge",
   "metadata": {},
   "outputs": [],
   "source": [
    "#Пирамидальная сортировка\n",
    "def heap(array, heap_size, root_index): \n",
    "    largest = root_index\n",
    "    left_child = (2 * root_index) + 1\n",
    "    right_child = (2 * root_index) + 2\n",
    "\n",
    "    if left_child < heap_size and array[left_child] > array[largest]:\n",
    "        largest = left_child\n",
    "    if right_child < heap_size and array[right_child] > array[largest]:\n",
    "        largest = right_child\n",
    "    if largest != root_index:\n",
    "        array[root_index], array[largest] = array[largest], array[root_index]\n",
    "        heap(array, heap_size, largest)\n",
    "\n",
    "def pyramid_sort(array):  \n",
    "    for i in range(len(array), -1, -1):\n",
    "        heap(array, len(array), i)\n",
    "        \n",
    "    for i in range(len(array) - 1, 0, -1):\n",
    "        array[i], array[0] = array[0], array[i]\n",
    "        heap(array, i, 0)"
   ]
  },
  {
   "cell_type": "code",
   "execution_count": 11,
   "id": "entitled-genealogy",
   "metadata": {},
   "outputs": [
    {
     "name": "stdout",
     "output_type": "stream",
     "text": [
      "Матрица: \n",
      "\n",
      "Сортировки\n",
      "\n",
      "Сортировка выбором\n",
      "Время: 0.048798299999987194 \n",
      " [-236, -228, -44, -37, 6, 125, 183, 225, 317, 351, 359, 368, 411, 439, 468, 541, 549, 599, 741, 742, 787, 825, 848, 887, 920, 935, 949, 958, 965, 969]\n",
      "\n",
      "Сортировка вставкой\n",
      "Время: 0.27005700000000843 \n",
      " [-227, -214, -204, -176, 21, 31, 73, 149, 169, 245, 256, 272, 324, 431, 433, 499, 501, 506, 522, 527, 528, 608, 626, 633, 647, 654, 837, 844, 892, 957]\n",
      "\n",
      "Сортировка обменом\n",
      "Время: 0.03491049999999518 \n",
      " [-199, -193, -149, -103, -84, -71, -51, 57, 94, 122, 131, 166, 204, 254, 274, 329, 343, 354, 357, 471, 533, 537, 538, 611, 638, 805, 806, 898, 1007, 1007]\n",
      "\n",
      "Сортировка Шелла\n",
      "Время: 0.034763999999995576 \n",
      " [-243, -184, -178, -148, -142, -124, 5, 104, 114, 121, 134, 156, 191, 301, 303, 309, 359, 457, 479, 511, 586, 605, 635, 664, 668, 745, 907, 908, 928, 965]\n",
      "\n",
      "Турнирная сортировка\n",
      "Время: 0.024737899999990987 \n",
      " [-193, -158, -158, -120, -114, -94, -85, -60, -52, 10, 26, 92, 101, 102, 198, 242, 277, 349, 382, 406, 491, 599, 626, 651, 665, 678, 684, 732, 887, 894]\n",
      "\n",
      "Пирамидальная сортировка\n",
      "Время: 0.024718699999993987 \n",
      " [-182, -175, -138, -101, -44, -7, -2, 49, 176, 247, 304, 306, 306, 406, 428, 468, 526, 532, 556, 664, 734, 755, 826, 879, 903, 937, 960, 963, 965, 988]\n",
      "\n",
      "Встроенная сортировка\n",
      "Время: 0.21820569999999861 \n",
      " [184, 244, 412, 917, 363, 704, -110, 819, 618, 980, 224, -150, 743, 110, 927, 263, 342, 761, 755, 726, 655, 367, 740, 776, 437, -164, 821, 134, 495, -76]\n"
     ]
    }
   ],
   "source": [
    "import timeit\n",
    "\n",
    "mat = mas_gen(7, 30, -250, 1010)\n",
    "\n",
    "print(\"Матрица: \")\n",
    "#for i in range(0,7):\n",
    "#    print(mat[i])\n",
    "print(\"\\nСортировки\")\n",
    "\n",
    "print(\"\\nСортировка выбором\\nВремя:\",       timeit.timeit(str(selection_sort(mat[0]))), '\\n', mat[0])\n",
    "print(\"\\nСортировка вставкой\\nВремя:\",      timeit.timeit(str(insertion_sort(mat[1]))), '\\n', mat[1])\n",
    "print(\"\\nСортировка обменом\\nВремя:\",       timeit.timeit(str(bubble_sort(mat[2]))), '\\n', mat[2])\n",
    "print(\"\\nСортировка Шелла\\nВремя:\",         timeit.timeit(str(shell_sort(mat[3]))), '\\n', mat[3])\n",
    "print(\"\\nТурнирная сортировка\\nВремя:\",     timeit.timeit(str(tournament_sort(mat[4]))), '\\n', mat[4])\n",
    "print(\"\\nПирамидальная сортировка\\nВремя:\", timeit.timeit(str(pyramid_sort(mat[5]))), '\\n', mat[5])\n",
    "print(\"\\nВстроенная сортировка\\nВремя:\",    timeit.timeit(str(sorted(mat[6]))), '\\n', mat[6])"
   ]
  },
  {
   "cell_type": "markdown",
   "id": "three-stone",
   "metadata": {},
   "source": [
    "### Задание 4\n",
    "\n",
    "Создать публичный репозиторий на github, и запушить выполненное задание в .ipynb формате.\n",
    "\n",
    "https://github.com/zhizhkaa/expert-octo-invention/blob/main/Lab1_%D0%91%D0%A1%D0%A21904_%D0%9A%D0%BE%D1%81%D1%82%D0%B8%D0%BD%20%D0%90.%20%D0%90.ipynb\n"
   ]
  },
  {
   "cell_type": "code",
   "execution_count": null,
   "id": "approved-porter",
   "metadata": {},
   "outputs": [],
   "source": []
  }
 ],
 "metadata": {
  "kernelspec": {
   "display_name": "Python 3",
   "language": "python",
   "name": "python3"
  },
  "language_info": {
   "codemirror_mode": {
    "name": "ipython",
    "version": 3
   },
   "file_extension": ".py",
   "mimetype": "text/x-python",
   "name": "python",
   "nbconvert_exporter": "python",
   "pygments_lexer": "ipython3",
   "version": "3.9.1"
  }
 },
 "nbformat": 4,
 "nbformat_minor": 5
}
