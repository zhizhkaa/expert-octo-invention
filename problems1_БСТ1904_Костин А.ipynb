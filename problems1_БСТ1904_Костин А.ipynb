{
 "cells": [
  {
   "cell_type": "markdown",
   "id": "reduced-paris",
   "metadata": {},
   "source": [
    "### Задача 1. \"Треугольник с максимальным периметром\"\n",
    "Массив A состоит из целых положительных чисел - длин отрезков. Составьте из трех отрезков такой треугольник, чтобы его периметр был максимально возможным. Если невозможно составить треугольник с положительной площадью - функция возвращает 0."
   ]
  },
  {
   "cell_type": "code",
   "execution_count": 74,
   "id": "adaptive-tribe",
   "metadata": {},
   "outputs": [
    {
     "name": "stdout",
     "output_type": "stream",
     "text": [
      "[1, 2, 2] --> 5\n",
      "[1, 2, 1] --> 0\n",
      "[3, 2, 3, 4] --> 10\n",
      "[3, 6, 2, 3] --> 8\n"
     ]
    }
   ],
   "source": [
    "# СЛОЖНОСТЬ O(n^3)\n",
    "# Решение обычным перебором\n",
    "def maxPerimetr(arr):\n",
    "    maxP = 0\n",
    "    for i in range(0, len(arr) - 2):\n",
    "        for j in range(i + 1, len(arr) - 1):\n",
    "            for k in range(j + 1, len(arr)):\n",
    "                a, b, c = arr[i], arr[j], arr[k]\n",
    "                if(a < b + c and b < c + a and b < a + c):\n",
    "                    maxP = max(maxP, a + b + c)         \n",
    "    if maxP > 0:\n",
    "        return(maxP)\n",
    "    else:\n",
    "        return 0\n",
    "    \n",
    "arr = [1, 2, 2]\n",
    "print(arr,\"-->\", maxPerimetr(arr))\n",
    "arr = [1, 2, 1]\n",
    "print(arr,\"-->\", maxPerimetr(arr))\n",
    "arr = [3, 2, 3, 4]\n",
    "print(arr,\"-->\", maxPerimetr(arr))\n",
    "arr = [3, 6, 2, 3]\n",
    "print(arr,\"-->\", maxPerimetr(arr))"
   ]
  },
  {
   "cell_type": "markdown",
   "id": "extensive-discrimination",
   "metadata": {},
   "source": [
    "### Задача 2. «Максимальное число»\n",
    "Дан массив неотрицательных целых чисел nums. Расположите их в таком порядке, чтобы\n",
    "вместе они образовали максимально возможное число.  \n",
    "**Замечание:** Результат может быть очень большим числом, поэтому представьте его как\n",
    "string, а не integer."
   ]
  },
  {
   "cell_type": "code",
   "execution_count": 59,
   "id": "inappropriate-worthy",
   "metadata": {},
   "outputs": [
    {
     "name": "stdout",
     "output_type": "stream",
     "text": [
      "[10, 2] --> 210\n",
      "[3, 30, 34, 5, 9] --> 9534330\n",
      "[1] --> 1\n",
      "[10] --> 10\n"
     ]
    }
   ],
   "source": [
    "# Скорее всего я делал это раньше, но я не помню почему именно так\n",
    "def maxNum(nums):\n",
    "    # Сортировка по остатку от деления на 10\n",
    "    # с флагом reverse\n",
    "    nums.sort(key=lambda n: n % 10, reverse=True)\n",
    "    \n",
    "    res = ''.join(str(e) for e in nums)\n",
    "    return res\n",
    "\n",
    "print(\"[10, 2] -->\",maxNum([10, 2]))\n",
    "print(\"[3, 30, 34, 5, 9] -->\",maxNum([3, 30, 34, 5, 9]))\n",
    "print(\"[1] -->\",maxNum([1]))\n",
    "print(\"[10] -->\",maxNum([10]))"
   ]
  },
  {
   "cell_type": "markdown",
   "id": "complete-capture",
   "metadata": {},
   "source": [
    "### Задача 3  \n",
    "Дана матрица mat размером m * n, значения - целочисленные. Напишите функцию, сортирующую каждую диагональ матрицы по возрастанию и возвращающую получившуюся матрицу."
   ]
  },
  {
   "cell_type": "code",
   "execution_count": 77,
   "id": "distinct-bouquet",
   "metadata": {},
   "outputs": [
    {
     "name": "stdout",
     "output_type": "stream",
     "text": [
      "mat = [[75, 88, 57, 60, 52], [41, 76, 20, 49, 54], [30, 27, 74, 95, 83], [29, 58, 25, 87, 36], [34, 81, 61, 88, 2]]\n",
      "      [[1, 1, 3, 3], [1, 2, 2, 2], [1, 1, 1, 2]]\n"
     ]
    }
   ],
   "source": [
    "import random\n",
    "def mas_gen(m, n, min_limit, max_limit):\n",
    "    mas1 = []\n",
    "\n",
    "    for j in range(m):\n",
    "        mas2 = []\n",
    "        for i in range(n):\n",
    "            mas2.append(random.randint(min_limit,max_limit))\n",
    "        mas1.append(mas2)\n",
    "    return(mas1)\n",
    "\n",
    "def sortDiag(mat):\n",
    "\n",
    "arr = mas_gen(5, 5, 1, 100)\n",
    "print(\"mat =\", arr)\n",
    "print(\"     \", sortDiag([[3,3,1,1],[2,2,1,2],[1,1,1,2]]))"
   ]
  },
  {
   "cell_type": "code",
   "execution_count": null,
   "id": "animated-inclusion",
   "metadata": {},
   "outputs": [],
   "source": []
  }
 ],
 "metadata": {
  "kernelspec": {
   "display_name": "Python 3",
   "language": "python",
   "name": "python3"
  },
  "language_info": {
   "codemirror_mode": {
    "name": "ipython",
    "version": 3
   },
   "file_extension": ".py",
   "mimetype": "text/x-python",
   "name": "python",
   "nbconvert_exporter": "python",
   "pygments_lexer": "ipython3",
   "version": "3.9.1"
  }
 },
 "nbformat": 4,
 "nbformat_minor": 5
}
