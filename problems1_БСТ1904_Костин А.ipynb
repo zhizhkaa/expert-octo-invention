{
 "cells": [
  {
   "cell_type": "markdown",
   "id": "virtual-database",
   "metadata": {},
   "source": [
    "### Задача 1. \"Треугольник с максимальным периметром\"\n",
    "Массив A состоит из целых положительных чисел - длин отрезков. Составьте из трех отрезков такой треугольник, чтобы его периметр был максимально возможным. Если невозможно составить треугольник с положительной площадью - функция возвращает 0."
   ]
  },
  {
   "cell_type": "code",
   "execution_count": 74,
   "id": "coupled-child",
   "metadata": {},
   "outputs": [
    {
     "name": "stdout",
     "output_type": "stream",
     "text": [
      "[1, 2, 2] --> 5\n",
      "[1, 2, 1] --> 0\n",
      "[3, 2, 3, 4] --> 10\n",
      "[3, 6, 2, 3] --> 8\n"
     ]
    }
   ],
   "source": [
    "# СЛОЖНОСТЬ O(n^3)\n",
    "# Решение обычным перебором\n",
    "def maxPerimetr(arr):\n",
    "    maxP = 0\n",
    "    for i in range(0, len(arr) - 2):\n",
    "        for j in range(i + 1, len(arr) - 1):\n",
    "            for k in range(j + 1, len(arr)):\n",
    "                a, b, c = arr[i], arr[j], arr[k]\n",
    "                if(a < b + c and b < c + a and b < a + c):\n",
    "                    maxP = max(maxP, a + b + c)         \n",
    "    if maxP > 0:\n",
    "        return(maxP)\n",
    "    else:\n",
    "        return 0\n",
    "    \n",
    "arr = [1, 2, 2]\n",
    "print(arr,\"-->\", maxPerimetr(arr))\n",
    "arr = [1, 2, 1]\n",
    "print(arr,\"-->\", maxPerimetr(arr))\n",
    "arr = [3, 2, 3, 4]\n",
    "print(arr,\"-->\", maxPerimetr(arr))\n",
    "arr = [3, 6, 2, 3]\n",
    "print(arr,\"-->\", maxPerimetr(arr))"
   ]
  },
  {
   "cell_type": "markdown",
   "id": "simplified-wayne",
   "metadata": {},
   "source": [
    "### Задача 2. «Максимальное число»\n",
    "Дан массив неотрицательных целых чисел nums. Расположите их в таком порядке, чтобы\n",
    "вместе они образовали максимально возможное число.  \n",
    "**Замечание:** Результат может быть очень большим числом, поэтому представьте его как\n",
    "string, а не integer."
   ]
  },
  {
   "cell_type": "code",
   "execution_count": 59,
   "id": "significant-reconstruction",
   "metadata": {},
   "outputs": [
    {
     "name": "stdout",
     "output_type": "stream",
     "text": [
      "[10, 2] --> 210\n",
      "[3, 30, 34, 5, 9] --> 9534330\n",
      "[1] --> 1\n",
      "[10] --> 10\n"
     ]
    }
   ],
   "source": [
    "# Скорее всего я делал это раньше, но я не помню почему именно так\n",
    "def maxNum(nums):\n",
    "    # Сортировка по остатку от деления на 10\n",
    "    # с флагом reverse\n",
    "    nums.sort(key=lambda n: n % 10, reverse=True)\n",
    "    \n",
    "    res = ''.join(str(e) for e in nums)\n",
    "    return res\n",
    "\n",
    "print(\"[10, 2] -->\", maxNum([10, 2]))\n",
    "print(\"[3, 30, 34, 5, 9] -->\",m axNum([3, 30, 34, 5, 9]))\n",
    "print(\"[1] -->\", maxNum([1]))\n",
    "print(\"[10] -->\", maxNum([10]))"
   ]
  },
  {
   "cell_type": "markdown",
   "id": "resident-azerbaijan",
   "metadata": {},
   "source": [
    "### Задача 3  \n",
    "Дана матрица mat размером m * n, значения - целочисленные. Напишите функцию, сортирующую каждую диагональ матрицы по возрастанию и возвращающую получившуюся матрицу."
   ]
  },
  {
   "cell_type": "code",
   "execution_count": 29,
   "id": "fantastic-surname",
   "metadata": {},
   "outputs": [
    {
     "name": "stdout",
     "output_type": "stream",
     "text": [
      "mat:\n",
      "[3, 3, 1, 1]\n",
      "[2, 2, 1, 2]\n",
      "[1, 1, 1, 2]\n",
      "\n",
      "Sorted: \n",
      "[1, 1, 1, 1]\n",
      "[1, 2, 2, 2]\n",
      "[1, 2, 3, 3]\n",
      "\n",
      "mat:\n",
      "[11, 25, 66, 1, 69, 7]\n",
      "[23, 55, 17, 45, 15, 52]\n",
      "[75, 31, 36, 44, 58, 8]\n",
      "[22, 27, 33, 25, 68, 4]\n",
      "[84, 28, 14, 11, 5, 50]\n",
      "\n",
      "Sorted: \n",
      "[5, 17, 4, 1, 52, 7]\n",
      "[11, 11, 25, 45, 8, 69]\n",
      "[14, 23, 25, 44, 58, 15]\n",
      "[22, 27, 31, 36, 50, 66]\n",
      "[84, 28, 75, 33, 55, 68]\n"
     ]
    }
   ],
   "source": [
    "def sortDiag(mat):\n",
    "    # Размер матрицы\n",
    "    m, n = len(mat), len(mat[0])\n",
    "    \n",
    "    # Пустой массив для диагоналей исходной матрицы\n",
    "    temp = [[] for i in range(m+n)]\n",
    "    \n",
    "    #temp = []\n",
    "    #for i in range(m + n):\n",
    "    #    temp.append([])\n",
    "\n",
    "        \n",
    "    # Добавляем каждую диагональ в массив t\n",
    "    for i in range(m):\n",
    "        for j in range(n):\n",
    "            temp[i - j].append(mat[i][j])\n",
    "    \n",
    "    # Сортируем каждую диагональ (т.е линию) массива\n",
    "    for line in temp:\n",
    "        line.sort(reverse = True)\n",
    "    \n",
    "    # \"Линии\" в диагонали матрицы\n",
    "    for i in range(m):\n",
    "        for j in range(n):\n",
    "            # pop() удаляет последний элемент массива и возвращает его\n",
    "            mat[i][j] = temp[i-j].pop()\n",
    "    return mat\n",
    "\n",
    "\n",
    "\n",
    "arr = [[3,3,1,1], [2,2,1,2], [1,1,1,2]]\n",
    "print(\"mat:\")\n",
    "for l in arr:\n",
    "    print(l) \n",
    "print(\"\\nSorted: \")\n",
    "arr = sortDiag(arr)\n",
    "for l in arr:\n",
    "    print(l)\n",
    "arr = [[11, 25, 66, 1, 69, 7], [23, 55, 17, 45, 15, 52], [75, 31, 36, 44, 58, 8], [22, 27, 33, 25, 68, 4], [84, 28, 14, 11, 5, 50]]\n",
    "print(\"\\nmat:\")\n",
    "for l in arr:\n",
    "    print(l)\n",
    "    \n",
    "print(\"\\nSorted: \")\n",
    "arr = sortDiag(arr)\n",
    "for l in arr:\n",
    "    print(l)"
   ]
  },
  {
   "cell_type": "code",
   "execution_count": null,
   "id": "center-alliance",
   "metadata": {},
   "outputs": [],
   "source": [
    "import random\n",
    "# Генерация случайной матрицы\n",
    "def mas_gen(m, n, min_limit, max_limit):\n",
    "    mas1 = []\n",
    "    for j in range(m):\n",
    "        mas2 = []\n",
    "        for i in range(n):\n",
    "            mas2.append(random.randint(min_limit,max_limit))\n",
    "        mas1.append(mas2)\n",
    "    return(mas1)"
   ]
  }
 ],
 "metadata": {
  "kernelspec": {
   "display_name": "Python 3",
   "language": "python",
   "name": "python3"
  },
  "language_info": {
   "codemirror_mode": {
    "name": "ipython",
    "version": 3
   },
   "file_extension": ".py",
   "mimetype": "text/x-python",
   "name": "python",
   "nbconvert_exporter": "python",
   "pygments_lexer": "ipython3",
   "version": "3.9.1"
  }
 },
 "nbformat": 4,
 "nbformat_minor": 5
}
