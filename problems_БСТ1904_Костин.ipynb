{
 "cells": [
  {
   "cell_type": "markdown",
   "id": "supported-complex",
   "metadata": {},
   "source": [
    "# Курсовая работа по дисциплине СиАОД\n",
    "## Выполнил студент группы БСТ1904 Костин Антон Алексеевич"
   ]
  },
  {
   "cell_type": "markdown",
   "id": "coordinate-arabic",
   "metadata": {},
   "source": [
    "### Задача 1. «Треугольник с максимальным периметром»\n",
    "Массив A состоит из целых положительных чисел - длин отрезков. Составьте из трех отрезков такой треугольник, чтобы его периметр был максимально возможным. Если невозможно составить треугольник с положительной площадью - функция возвращает 0."
   ]
  },
  {
   "cell_type": "code",
   "execution_count": 5,
   "id": "inappropriate-plenty",
   "metadata": {},
   "outputs": [
    {
     "name": "stdout",
     "output_type": "stream",
     "text": [
      "[1, 2, 2] --> 5\n",
      "[1, 2, 1] --> 0\n",
      "[3, 2, 3, 4] --> 10\n",
      "[3, 6, 2, 3] --> 8\n"
     ]
    }
   ],
   "source": [
    "def maxPerimetr(arr):\n",
    "    arr = sorted(arr, reverse=True)\n",
    "    n = len(arr)\n",
    "    for i in range(n - 2):\n",
    "        if arr[i] < arr[i + 1] + arr[i + 2]:\n",
    "            return arr[i] + arr[i + 1] + arr[i + 2]\n",
    "    return 0\n",
    "\n",
    "arr = [1, 2, 2]\n",
    "print(arr,\"-->\", maxPerimetr(arr))\n",
    "arr = [1, 2, 1]\n",
    "print(arr,\"-->\", maxPerimetr(arr))\n",
    "arr = [3, 2, 3, 4]\n",
    "print(arr,\"-->\", maxPerimetr(arr))\n",
    "arr = [3, 6, 2, 3]\n",
    "print(arr,\"-->\", maxPerimetr(arr))"
   ]
  },
  {
   "cell_type": "markdown",
   "id": "failing-improvement",
   "metadata": {},
   "source": [
    "### Задача 2. «Максимальное число»\n",
    "Дан массив неотрицательных целых чисел nums. Расположите их в таком порядке, чтобы\n",
    "вместе они образовали максимально возможное число.  \n",
    "**Замечание:** Результат может быть очень большим числом, поэтому представьте его как\n",
    "string, а не integer."
   ]
  },
  {
   "cell_type": "code",
   "execution_count": 45,
   "id": "unnecessary-prime",
   "metadata": {},
   "outputs": [
    {
     "name": "stdout",
     "output_type": "stream",
     "text": [
      "[10, 2] --> 102\n",
      "[3, 30, 34, 5, 9] --> 3033459\n",
      "[1] --> 1\n",
      "[10] --> 10\n"
     ]
    }
   ],
   "source": [
    "def maxNum(nums):\n",
    "    # Сортировка по остатку от деления на 10 с флагом reverse\n",
    "    # т.е. сортируются не числа, а цифры чисел\n",
    "    nums.sort(key=lambda n: n % 10)\n",
    "    \n",
    "    res = ''.join(str(e) for e in nums)\n",
    "    return res\n",
    "\n",
    "print(\"[10, 2] -->\", maxNum([10, 2]))\n",
    "print(\"[3, 30, 34, 5, 9] -->\", maxNum([3, 30, 34, 5, 9]))\n",
    "print(\"[1] -->\", maxNum([1]))\n",
    "print(\"[10] -->\", maxNum([10]))"
   ]
  },
  {
   "attachments": {
    "896954bd-9a79-423b-b30b-392d61798d11.png": {
     "image/png": "[encoded data removed]"
    }
   },
   "cell_type": "markdown",
   "id": "hollywood-chassis",
   "metadata": {},
   "source": [
    "### Задача 3. «Сортировка диагоналей в матрице»\n",
    "Дана матрица mat размером m * n, значения - целочисленные. Напишите функцию, сортирующую каждую диагональ матрицы по возрастанию и возвращающую получившуюся матрицу.  \n",
    "![image.png](attachment:896954bd-9a79-423b-b30b-392d61798d11.png)"
   ]
  },
  {
   "cell_type": "code",
   "execution_count": 5,
   "id": "changing-yugoslavia",
   "metadata": {},
   "outputs": [
    {
     "name": "stdout",
     "output_type": "stream",
     "text": [
      "Matrix:\n",
      "[3, 3, 1, 1]\n",
      "[2, 2, 1, 2]\n",
      "[1, 1, 1, 2]\n",
      "\n",
      "Sorted: \n",
      "[1, 1, 1, 1]\n",
      "[1, 2, 2, 2]\n",
      "[1, 2, 3, 3]\n",
      "\n",
      "Matrix:\n",
      "[11, 25, 66, 1, 69, 7]\n",
      "[23, 55, 17, 45, 15, 52]\n",
      "[75, 31, 36, 44, 58, 8]\n",
      "[22, 27, 33, 25, 68, 4]\n",
      "[84, 28, 14, 11, 5, 50]\n",
      "\n",
      "Sorted: \n",
      "[5, 17, 4, 1, 52, 7]\n",
      "[11, 11, 25, 45, 8, 69]\n",
      "[14, 23, 25, 44, 58, 15]\n",
      "[22, 27, 31, 36, 50, 66]\n",
      "[84, 28, 75, 33, 55, 68]\n"
     ]
    }
   ],
   "source": [
    "def sortDiag(mat):\n",
    "    # Размер матрицы\n",
    "    m, n = len(mat), len(mat[0])\n",
    "    \n",
    "    # Пустой массив для диагоналей исходной матрицы\n",
    "    temp = [[] for i in range(m+n)]\n",
    "    \n",
    "    #temp = []\n",
    "    #for i in range(m + n):\n",
    "    #    temp.append([])\n",
    "\n",
    "        \n",
    "    # Добавляем каждую диагональ в массив t\n",
    "    for i in range(m):\n",
    "        for j in range(n):\n",
    "            temp[i - j].append(mat[i][j])\n",
    "    \n",
    "    # Сортируем каждую диагональ (т.е линию) массива\n",
    "    for line in temp:\n",
    "        line.sort(reverse = True)\n",
    "    \n",
    "    # \"Линии\" в диагонали матрицы\n",
    "    for i in range(m):\n",
    "        for j in range(n):\n",
    "            # pop() удаляет последний элемент массива и возвращает его\n",
    "            mat[i][j] = temp[i-j].pop()\n",
    "    return mat\n",
    "\n",
    "\n",
    "\n",
    "arr = [[3,3,1,1], [2,2,1,2], [1,1,1,2]]\n",
    "print(\"Matrix:\")\n",
    "for l in arr:\n",
    "    print(l) \n",
    "print(\"\\nSorted: \")\n",
    "arr = sortDiag(arr)\n",
    "for l in arr:\n",
    "    print(l)\n",
    "arr = [[11, 25, 66, 1, 69, 7], [23, 55, 17, 45, 15, 52], [75, 31, 36, 44, 58, 8], [22, 27, 33, 25, 68, 4], [84, 28, 14, 11, 5, 50]]\n",
    "print(\"\\nMatrix:\")\n",
    "for l in arr:\n",
    "    print(l)\n",
    "    \n",
    "print(\"\\nSorted: \")\n",
    "arr = sortDiag(arr)\n",
    "for l in arr:\n",
    "    print(l)"
   ]
  },
  {
   "cell_type": "markdown",
   "id": "ultimate-allergy",
   "metadata": {},
   "source": [
    "### Задача 4. «Объединение отрезков»\n",
    "Дан массив отрезков intervals, в котором *intervals[i] = [starti, endi]*, некоторые отрезки могут пересекаться.  \n",
    "Напишите функцию, которая объединяет все пересекающиеся отрезки в один и возвращает новый массив непересекающихся отрезко"
   ]
  },
  {
   "cell_type": "code",
   "execution_count": 2,
   "id": "drawn-airplane",
   "metadata": {},
   "outputs": [
    {
     "name": "stdout",
     "output_type": "stream",
     "text": [
      "[[1, 7], [2, 7], [8, 10], [15, 18]]  -->  [[1, 7], [8, 10], [15, 18]]\n",
      "[[1, 5], [4, 5]]  -->  [[1, 5]]\n"
     ]
    }
   ],
   "source": [
    "def merge(intervals):\n",
    "    # Сортирум по первым числам интервалов\n",
    "    intervals.sort(key=lambda x: x[0])\n",
    "    \n",
    "    result = []\n",
    "    for interval in intervals:\n",
    "        if not result or result[-1][1] < interval[0]:\n",
    "            result.append(interval)\n",
    "        else:\n",
    "            result[-1][1] = max(result[-1][1], interval[1])\n",
    "    return(result)\n",
    "    \n",
    "intervals = [[1, 3], [2, 7], [8, 10], [15, 18]]\n",
    "print(intervals, ' --> ', merge(intervals))\n",
    "intervals = [[1,4],[4,5]]\n",
    "print(intervals, ' --> ', merge(intervals))"
   ]
  },
  {
   "cell_type": "markdown",
   "id": "breathing-region",
   "metadata": {},
   "source": [
    "### Задача 5.  «Стопки монет»\n",
    "На столе стоят 3n стопок монет.  \n",
    "Вы и ваши друзья Алиса и Боб забираете стопки монет последующему алгоритму:\n",
    "1. Вы выбираете 3 стопки монет из оставшихся на столе.\n",
    "2. Алиса забирает себе стопку с максимальным количеством монет.\n",
    "3. Вы забираете одну из двух оставшихся стопок.\n",
    "4. Боб забирает последнюю стопку.\n",
    "5. Если еще остались стопки, то действия повторяются с первого шага.  \n",
    "\n",
    "Дан массив целых положительных чисел piles. Напишите функцию, возвращающую максимальное число монет, которое вы можете получить"
   ]
  },
  {
   "cell_type": "code",
   "execution_count": 54,
   "id": "emerging-throat",
   "metadata": {},
   "outputs": [
    {
     "name": "stdout",
     "output_type": "stream",
     "text": [
      "[2, 4, 1, 2, 7, 8] --> 9\n",
      "[2, 4, 5] --> 4\n",
      "[9, 8, 7, 6, 5, 1, 2, 3, 4] --> 18\n"
     ]
    }
   ],
   "source": [
    "def coins(piles):\n",
    "    result = 0\n",
    "    # Сортируем массив по возрастанию. \n",
    "    # Первые n монет забирает Боб, а оставшиеся чередуем я и Алиса\n",
    "    \n",
    "    piles = sorted(piles)\n",
    "    n = len(piles) // 3\n",
    "    # n стопок, начиная с предпоследней, с шагом -2 - наши\n",
    "    index = 3 * n - 2 \n",
    "    for i in range(n):\n",
    "        result += piles[index]\n",
    "        index -= 2\n",
    "    return result\n",
    "    '''\n",
    "    [ 2, 4, 1, 2, 7, 8 ] \n",
    "    [ 1, 2, 2, 4, 7, 8 ]\n",
    "      Б  Б  +  А  +  А\n",
    "    \n",
    "    res = 2 + 7\n",
    "    '''\n",
    "    \n",
    "piles = [2, 4, 1, 2, 7, 8]\n",
    "print(piles, '-->', coins(piles))\n",
    "piles = [2, 4, 5]\n",
    "print(piles, '-->', coins(piles))\n",
    "piles = [9, 8, 7, 6, 5, 1, 2, 3, 4]\n",
    "print(piles, '-->', coins(piles))"
   ]
  },
  {
   "cell_type": "markdown",
   "id": "planned-tobacco",
   "metadata": {},
   "source": [
    "### Задача 6. «Шарики и стрелы»\n",
    "Некоторые сферические шарики распределены по двухмерному пространству. \n",
    "Для каждого шарика даны x координаты начала и конца его горизонтального диаметра. \n",
    "Так как пространство двумерно, то y координаты не имеют значения в данной задаче. Координата x_start всегда меньше x_end.\n",
    "\n",
    "Стрелу можно выстрелить строго вертикально (вдоль y оси) из разных точек x­оси. \n",
    "Шарик с координатами x_start и x_end уничтожается стрелой, если она была выпущена из такой позиции x, \n",
    "что xstart ⩽ x ⩽ xend.  \n",
    "Когда стрела выпущена, она летит в пространстве бесконечное время (уничтожая все шарики на пути).\n",
    "\n",
    "Дан массив points, где points[i] = [xstart, xend]. \n",
    "Напишите функцию, возвращающую минимальное количество стрел, которые нужно выпустить, чтобы уничтожить все шарики.\n"
   ]
  },
  {
   "cell_type": "code",
   "execution_count": 57,
   "id": "vanilla-roulette",
   "metadata": {},
   "outputs": [
    {
     "name": "stdout",
     "output_type": "stream",
     "text": [
      "[[10, 16], [2, 8], [1, 6], [7, 12]] --> 2\n",
      "[[1, 2], [3, 4], [5, 6], [7, 8]] --> 4\n",
      "[[1, 2], [2, 3], [3, 4], [4, 5]] --> 2\n",
      "[[1, 2]] --> 1\n",
      "[[2, 3], [2, 3]] --> 1\n"
     ]
    }
   ],
   "source": [
    "def balloons(arr):\n",
    "    arr = sorted(arr)\n",
    "    result = 1\n",
    "    prev = arr[0]\n",
    "    \n",
    "    for balloon in arr:\n",
    "        if prev[1] < balloon[0]:\n",
    "            prev = balloon\n",
    "            result += 1\n",
    "        else:\n",
    "            prev[1] = min(balloon[1], prev[1])\n",
    "    return(result)\n",
    "\n",
    "points = [[10,16],[2,8],[1,6],[7,12]]\n",
    "print(points, '-->', balloons(points))\n",
    "points = [[1,2],[3,4],[5,6],[7,8]]\n",
    "print(points, '-->', balloons(points))\n",
    "points = [[1,2],[2,3],[3,4],[4,5]]\n",
    "print(points, '-->', balloons(points))\n",
    "points = [[1,2]]\n",
    "print(points, '-->', balloons(points))\n",
    "points = [[2,3],[2,3]]\n",
    "print(points, '-->', balloons(points))"
   ]
  },
  {
   "cell_type": "markdown",
   "id": "multiple-space",
   "metadata": {},
   "source": [
    "### Задача 7.\n",
    "Даны две строки: s1 и s2 с одинаковым размером, проверьте,  \n",
    "может ли некоторая перестановка строки s1 “победить” некоторую перестановку строки s2 или наоборот. \n",
    "\n",
    "Строка x может “победить” строку y (обе имеют размер n), если x[i]> = y [i] (в алфавитном порядке) для всех i от 0 до n-1."
   ]
  },
  {
   "cell_type": "code",
   "execution_count": 55,
   "id": "small-partner",
   "metadata": {},
   "outputs": [
    {
     "name": "stdout",
     "output_type": "stream",
     "text": [
      "True\n",
      "False\n"
     ]
    }
   ],
   "source": [
    "def stringWin(s1, s2):\n",
    "    str1 = sorted(s1)\n",
    "    str2 = sorted(s2)\n",
    "    f1 = True\n",
    "    f2 = True\n",
    "    \n",
    "    for i in range(len(str1)):\n",
    "        if str1[i] < str2[i]:\n",
    "            f1 = False\n",
    "        if str1[i] > str2[i]:\n",
    "            f2 = False\n",
    "    return(f1 or f2)\n",
    "    \n",
    "a1 = 'abc'\n",
    "a2 = 'xya'\n",
    "print(stringWin(a1, a2))\n",
    "\n",
    "a1 = 'abe' \n",
    "a2 = 'acd'\n",
    "print(stringWin(a1, a2))"
   ]
  },
  {
   "cell_type": "markdown",
   "id": "outdoor-glucose",
   "metadata": {},
   "source": [
    "### Задача 8.\n",
    "Дана строка s, вернуть самую длинную полиндромную подстроку в s."
   ]
  },
  {
   "cell_type": "code",
   "execution_count": 19,
   "id": "married-suicide",
   "metadata": {},
   "outputs": [
    {
     "name": "stdout",
     "output_type": "stream",
     "text": [
      "result: bab \n",
      "\n",
      "result: bb\n"
     ]
    }
   ],
   "source": [
    "def longestPalindrome(s):\n",
    "    res = \"\"\n",
    "    for i in range(len(s)):        \n",
    "        odd  = palindrome(s, i, i)\n",
    "        even = palindrome(s, i, i+1)\n",
    "        res = max(res, odd, even, key=len)\n",
    "        #print('odd:', odd, 'even:', even, 'res:', res, 'i:', i)\n",
    "    return res\n",
    " \n",
    "def palindrome(s, l, r):    \n",
    "    while l >= 0 and r < len(s) and s[l] == s[r]:\n",
    "        l -= 1\n",
    "        r += 1\n",
    "        #print('l:', l, 'r', r)\n",
    "    return s[l + 1:r]\n",
    "\n",
    "print('result:', longestPalindrome(\"babad\"), '\\n')\n",
    "print('result:', longestPalindrome(\"cbbd\"))"
   ]
  },
  {
   "cell_type": "markdown",
   "id": "republican-causing",
   "metadata": {},
   "source": [
    "### Задача 9.\n",
    "Вернуть количество отдельных непустых подстрок текста, которые могут быть записаны как конкатенация некоторой строки с самой собой  \n",
    "*(т.е. онаможет быть записана, как a + a, где a - некоторая строка).*"
   ]
  },
  {
   "cell_type": "code",
   "execution_count": 5,
   "id": "capital-glossary",
   "metadata": {},
   "outputs": [
    {
     "name": "stdout",
     "output_type": "stream",
     "text": [
      "substrings: {'abc', 'cab', 'bca'}\n",
      "abcabcabc --> 3 \n",
      "\n",
      "substrings: {'na', 'an'}\n",
      "banana --> 2 \n",
      "\n",
      "substrings: {'o', 'l'}\n",
      "helloolleh --> 2 \n",
      "\n"
     ]
    }
   ],
   "source": [
    "def concat(s):\n",
    "    result = set()\n",
    "    n = len(s)\n",
    "    for i in range(n):\n",
    "        for j  in range(i + 1, n):\n",
    "            # print('s[i:j]: <', s[i:j], '>' ,'s[j:j + len]: <', s[j:j+len(s[i:j])], '>')\n",
    "            if s[i:j] == s[j:j + len(s[i:j])]:\n",
    "                result.add(s[i:j])\n",
    "                \n",
    "    print('substrings:', result)\n",
    "    return len(result)\n",
    "    \n",
    "text = \"abcabcabc\"\n",
    "print(text, '-->', concat(text), '\\n')\n",
    "text = \"banana\"\n",
    "print(text, '-->', concat(text), '\\n')\n",
    "text = \"helloolleh\"\n",
    "print(text, '-->', concat(text), '\\n')"
   ]
  },
  {
   "cell_type": "markdown",
   "id": "american-unknown",
   "metadata": {},
   "source": [
    "### Вывод\n",
    "После выполнения лабораторной работы были выполнены задачи на знание алгоритмов обработки данных"
   ]
  },
  {
   "cell_type": "code",
   "execution_count": null,
   "id": "wrapped-surrey",
   "metadata": {},
   "outputs": [],
   "source": []
  }
 ],
 "metadata": {
  "kernelspec": {
   "display_name": "Python 3",
   "language": "python",
   "name": "python3"
  },
  "language_info": {
   "codemirror_mode": {
    "name": "ipython",
    "version": 3
   },
   "file_extension": ".py",
   "mimetype": "text/x-python",
   "name": "python",
   "nbconvert_exporter": "python",
   "pygments_lexer": "ipython3",
   "version": "3.9.1"
  }
 },
 "nbformat": 4,
 "nbformat_minor": 5
}
