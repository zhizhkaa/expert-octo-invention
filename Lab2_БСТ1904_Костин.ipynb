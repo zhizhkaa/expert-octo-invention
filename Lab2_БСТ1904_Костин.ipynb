{
 "cells": [
  {
   "cell_type": "markdown",
   "id": "satisfactory-preservation",
   "metadata": {},
   "source": [
    "# Лабораторная работа №2\n",
    "## Выполнил студент группы БСТ1904 Костин Антон Алексеевич\n",
    "### Задание №1\n",
    "\n",
    "Реализовать методы поиска в соответствии с заданием. Организовать генерацию\n",
    "начального набора случайных данных. Для всех вариантов добавить реализацию\n",
    "добавления, поиска и удаления элементов. Оценить время работы каждого алгоритма\n",
    "поиска и сравнить его со временем работы стандартной функции поиска, используемой в\n",
    "выбранном языке программирования. \n",
    "\n",
    "|Бинарный поиск|Бинарное дерево|Фибоначчиев|Интерполяционный|\n",
    "|------|------|------|------|"
   ]
  },
  {
   "cell_type": "markdown",
   "id": "dedicated-tyler",
   "metadata": {},
   "source": [
    "### Бинарный поиск"
   ]
  },
  {
   "cell_type": "code",
   "execution_count": 2,
   "id": "portable-carolina",
   "metadata": {},
   "outputs": [],
   "source": [
    "class BinarySearch:\n",
    "    def __init__(self):\n",
    "        self.data = []\n",
    "\n",
    "    def search(self, value):\n",
    "        left = 0\n",
    "        right = len(self.data)\n",
    "\n",
    "        while left < right:\n",
    "            middle = (left + right) // 2\n",
    "            if self.data[middle][0] < value:\n",
    "                left = middle + 1\n",
    "            else:\n",
    "                right = middle\n",
    "        \n",
    "        return left\n",
    "\n",
    "    def __setitem__(self, key, value):\n",
    "        index = self.search(key)\n",
    "        if index < len(self.data) and self.data[index][0] == key:\n",
    "            self.data[index] = (key, value)\n",
    "        else:\n",
    "            self.data.insert(index, (key, value))\n",
    "\n",
    "    def __delitem__(self, key):\n",
    "        index = self.search(key)\n",
    "        self.data.pop(index)\n",
    "\n",
    "    def __getitem__(self, key):\n",
    "        index = self.search(key)\n",
    "        foundKey, val = self.data[index]\n",
    "        if foundKey == key:\n",
    "            return val\n",
    "        else:\n",
    "            return None"
   ]
  },
  {
   "cell_type": "markdown",
   "id": "theoretical-hunter",
   "metadata": {},
   "source": [
    "### Бинарное дерево\n",
    "Значения меньше корневого находятся в левом поддереве, а большие - в правом"
   ]
  },
  {
   "cell_type": "code",
   "execution_count": 3,
   "id": "weird-reflection",
   "metadata": {},
   "outputs": [],
   "source": [
    "class Node:\n",
    "    def __init__(self, key):\n",
    "        self.key = key\n",
    "        self.left = None\n",
    "        self.right = None\n",
    "    \n",
    "    def inorder(root):\n",
    "        if root is not None:\n",
    "            inorder(root.left)\n",
    "            print root.key,\n",
    "            inorder(root.right)\n",
    "\n",
    "    def insert(node, key):\n",
    "        if node is None:\n",
    "            return Node(key)\n",
    "\n",
    "        if key < node.key:\n",
    "            node.left = insert(node.left, key)\n",
    "        else:\n",
    "            node.right = insert(node.right, key)\n",
    "            \n",
    "        return node\n",
    "    \n",
    "    def minValueNode(node):\n",
    "        current = node\n",
    "        while(current.left is not None):\n",
    "            current = current.left\n",
    "        return current\n",
    "    \n",
    "    def deleteNode(root, key):\n",
    "        if root is None:\n",
    "            return root\n",
    "        \n",
    "        if key < root.key:\n",
    "            root.left = deleteNode(root.left, key)\n",
    "        elif(key > root.key):\n",
    "            root.right = deleteNode(root.right, key)\n",
    "        else:\n",
    "            if root.left is None:\n",
    "                temp = root.right\n",
    "                root = None\n",
    "                return temp\n",
    "            elif root.right is None:\n",
    "                temp = root.left\n",
    "                root = None\n",
    "                return temp\n",
    "            temp = minValueNode(root.right) \n",
    "            root.key = temp.key\n",
    "            root.right = deleteNode(root.right, temp.key)\n",
    "        return root"
   ]
  },
  {
   "cell_type": "markdown",
   "id": "compound-arthur",
   "metadata": {},
   "source": [
    "### Фибоначчиев поиск\n",
    "В этом поиске анализируются элементы, находящиеся в позициях, равных числам Фибоначчи.  \n",
    "Числа Фибоначчи получаются по следующему правилу: последующее число равно сумме двух предыдущих чисел.  \n",
    "##### [0, 1, 2, 3, 5, 8, 13, 21, 34 ....]"
   ]
  },
  {
   "cell_type": "code",
   "execution_count": 4,
   "id": "authentic-burner",
   "metadata": {},
   "outputs": [],
   "source": [
    "fib_c = [0, 1]\n",
    "def fibonnaci(n):\n",
    "    if len(fib_c) - 1 < n:\n",
    "        fib_c.append(fibonnaci(n - 1) + fibonnaci(n - 2))\n",
    "    return fib_c[n]\n",
    "\n",
    "class FibonacciSearch(BinarySearch):\n",
    "    \n",
    "    def search(self, key):  \n",
    "        m = 0 \n",
    "        while fibonnaci(m) < len(self.data): \n",
    "            m += 1\n",
    "        offset = 0\n",
    "        while fibonnaci(m) > 1:\n",
    "            i = min(offset + fibonnaci(m - 1), len(self.data) - 1)\n",
    "            if key > self.data[i][0]:\n",
    "                offset = i\n",
    "                m -= 1\n",
    "            elif key < self.data[i][0]:\n",
    "                m -=2\n",
    "            else:\n",
    "                return i\n",
    "        if len(self.data) and self.data[offset][0] < key:\n",
    "            return offset + 1\n",
    "        return 0"
   ]
  },
  {
   "cell_type": "markdown",
   "id": "british-candle",
   "metadata": {},
   "source": [
    "### Интерполяционный поиск"
   ]
  },
  {
   "cell_type": "code",
   "execution_count": 5,
   "id": "copyrighted-buyer",
   "metadata": {},
   "outputs": [],
   "source": [
    "def nearMid(arr, low, high, val):\n",
    "    return low + (high - low) * (val - arr[low][0]) // (arr[high][0] - arr[low][0])\n",
    "    \n",
    "class InterpolateSearch(BinarySearch):\n",
    "    def searchINT(self, value):\n",
    "        size_of_list = len(self.data) - 1\n",
    "\n",
    "        first = 0\n",
    "        last = size_of_list\n",
    "\n",
    "        while first <= last:\n",
    "            middle = nearMid(self.data, first, last, value)\n",
    "\n",
    "            if middle > last or middle < first:\n",
    "                return None\n",
    "\n",
    "            if self.data[middle][0] == value:\n",
    "                return middle\n",
    "\n",
    "            if value > self.data[middle][0]:\n",
    "                first = middle + 1\n",
    "            else:\n",
    "                last = middle - 1\n",
    "\n",
    "        if first > last:\n",
    "            return None"
   ]
  },
  {
   "cell_type": "markdown",
   "id": "steady-intent",
   "metadata": {},
   "source": [
    "### Задание 2\n",
    "|Простое рехэширование|Рехэширование с помощью псевдослучайных чисел|Метод цепочек|\n",
    "|------|------|------|"
   ]
  },
  {
   "cell_type": "markdown",
   "id": "monthly-browser",
   "metadata": {},
   "source": [
    "### Простое рехэширование\n"
   ]
  },
  {
   "cell_type": "code",
   "execution_count": 6,
   "id": "stable-pittsburgh",
   "metadata": {},
   "outputs": [],
   "source": [
    "class HashMap:\n",
    "    def __init__(self):\n",
    "        self.size = 0\n",
    "        self.data = []\n",
    "        self._resize()\n",
    "    \n",
    "    def _hash(self, key, i):\n",
    "        return (hash(key) + i) % len(self.data)\n",
    "        \n",
    "    def _find(self, key):\n",
    "        i = 0;\n",
    "        index = self._hash(key, i);\n",
    "        while self.data[index] is not None and self.data[index][0] != key:\n",
    "            i += 1\n",
    "            index = self._hash(key, i);\n",
    "        return index;\n",
    "    \n",
    "    def _resize(self):\n",
    "        temp = self.data\n",
    "        self.data = [None] * (2*len(self.data) + 1)\n",
    "        for item in temp:\n",
    "            if item is not None:\n",
    "                self.data[self._find(item[0])] = item\n",
    "    \n",
    "    def __setitem__(self, key, value):\n",
    "        if self.size + 1 > len(self.data) // 2:\n",
    "            self._resize()\n",
    "        index = self._find(key)\n",
    "        if self.data[index] is None:  \n",
    "            self.size += 1\n",
    "        self.data[index] = (key, value)\n",
    "    \n",
    "    def __getitem__(self, key):\n",
    "        index = self._find(key)\n",
    "        if self.data[index] is not None:\n",
    "            return self.data[index][1]\n",
    "        raise KeyError()"
   ]
  },
  {
   "cell_type": "markdown",
   "id": "latest-paste",
   "metadata": {},
   "source": [
    "### Рехеширование с помощью всевдослучайных чисел"
   ]
  },
  {
   "cell_type": "code",
   "execution_count": 7,
   "id": "undefined-solid",
   "metadata": {},
   "outputs": [],
   "source": [
    "class RandomHashMap(HashMap):\n",
    "    _rand_c = [5323]\n",
    "    \n",
    "    def _rand(self, i):\n",
    "        if len(self._rand_c) - 1 < i:\n",
    "            self._rand_c.append(self._rand(i - 1))\n",
    "        return (123456789 * self._rand_c[i] + 987654321) % 65546\n",
    "        \n",
    "    def _hash(self, key, i):\n",
    "        return (hash(key) + self._rand(i)) % len(self.data)"
   ]
  },
  {
   "cell_type": "markdown",
   "id": "marine-lunch",
   "metadata": {},
   "source": [
    "### Метод цепочек"
   ]
  },
  {
   "cell_type": "code",
   "execution_count": 8,
   "id": "overhead-triple",
   "metadata": {},
   "outputs": [],
   "source": [
    "class ChainMap:\n",
    "    def __init__(self):\n",
    "        self.size = 0\n",
    "        self.data = []\n",
    "        self._resize()\n",
    "    \n",
    "    def _hash(self, key):\n",
    "        return hash(key) % len(self.data)\n",
    "    \n",
    "    def _insert(self, index, item):\n",
    "        if self.data[index] is None:\n",
    "            self.data[index] = [item]\n",
    "            return True\n",
    "        else:\n",
    "            for i, item_ in enumerate(self.data[index]):\n",
    "                if item_[0] == item[0]:\n",
    "                    self.data[index][i] = item\n",
    "                    return False\n",
    "            self.data[index].append(item)\n",
    "            return True\n",
    "    \n",
    "    def _resize(self):\n",
    "        temp = self.data\n",
    "        self.data = [None] * (2*len(self.data) + 1)\n",
    "        for bucket in temp:\n",
    "            if bucket is not None:\n",
    "                for key, value in bucket:\n",
    "                    self._insert(self._hash(key), (key, value))\n",
    "    \n",
    "    def __setitem__(self, key, value):\n",
    "        if self.size + 1 > len(self.data) // 1.5:\n",
    "            self._resize()\n",
    "        if self._insert(self._hash(key), (key, value)):  \n",
    "            self.size += 1\n",
    "    \n",
    "    def __getitem__(self, key):\n",
    "        index = self._hash(key)\n",
    "        if self.data[index] is not None:\n",
    "            for key_, value in self.data[index]:\n",
    "                if key_ == key:\n",
    "                    return value\n",
    "        raise KeyError()"
   ]
  },
  {
   "cell_type": "markdown",
   "id": "republican-necessity",
   "metadata": {},
   "source": [
    "### Сравнение алгоритмов\n"
   ]
  },
  {
   "cell_type": "code",
   "execution_count": 24,
   "id": "major-henry",
   "metadata": {},
   "outputs": [
    {
     "name": "stdout",
     "output_type": "stream",
     "text": [
      "915\n",
      "Бинарный поиск:  0.000997781753540039\n",
      "915\n",
      "Поиск Фибонначи:  0.0\n",
      "915\n",
      "Интерполяционный поиск:  0.0\n",
      "915\n",
      "Встроенный поиск:  0.0\n"
     ]
    }
   ],
   "source": [
    "import time\n",
    "\n",
    "binary = BinarySearch()\n",
    "fibon = FibonacciSearch()\n",
    "interpolate = InterpolateSearch()\n",
    "arr = []\n",
    "for x in range(100000):\n",
    "    binary[x] = x + 43\n",
    "    fibon[x] = x + 43\n",
    "    interpolate[x] = x + 43\n",
    "    arr.append(x + 43)\n",
    "\n",
    "\n",
    "binary_start = time.time()\n",
    "print(binary[872])\n",
    "binary_end = time.time()\n",
    "print(\"Бинарный поиск: \", (binary_end - binary_start))\n",
    "\n",
    "fib_start = time.time()\n",
    "print(fibon[872])\n",
    "fib_end = time.time()  \n",
    "print(\"Поиск Фибонначи: \", (fib_end - fib_start))\n",
    "\n",
    "int_start = time.time()\n",
    "print(interpolate[interpolate.searchINT(872)])\n",
    "int_end = time.time()  \n",
    "print(\"Интерполяционный поиск: \", (int_end - int_start))\n",
    "\n",
    "search_start = time.time()\n",
    "print(arr[872])\n",
    "search_end = time.time()\n",
    "print(\"Встроенный поиск: \", (search_end - search_start))"
   ]
  },
  {
   "cell_type": "markdown",
   "id": "pleased-skill",
   "metadata": {},
   "source": [
    "### Задание 3\n",
    "Расставить на стандартной 64-клеточной шахматной доске 8 ферзей так, чтобы ни один из них не находился под боем другого». Подразумевается, что ферзь бьёт все клетки, расположенные по вертикалям, горизонталям и обеим диагоналям Написать программу, которая находит хотя бы один способ решения задач.\n",
    "\n",
    "##### ИЛИ\n",
    "\n",
    "Заполнить матрицу размером 8 х 8 нулями и единицами таким образом, чтобы сумма всех элементов матрицы была равна 8, при этом сумма элементов ни в одном столбце, строке или диагональном ряде матрицы не превышала единицы\n"
   ]
  },
  {
   "cell_type": "code",
   "execution_count": 31,
   "id": "interpreted-combat",
   "metadata": {},
   "outputs": [],
   "source": []
  }
 ],
 "metadata": {
  "kernelspec": {
   "display_name": "Python 3",
   "language": "python",
   "name": "python3"
  },
  "language_info": {
   "codemirror_mode": {
    "name": "ipython",
    "version": 3
   },
   "file_extension": ".py",
   "mimetype": "text/x-python",
   "name": "python",
   "nbconvert_exporter": "python",
   "pygments_lexer": "ipython3",
   "version": "3.9.1"
  }
 },
 "nbformat": 4,
 "nbformat_minor": 5
}
