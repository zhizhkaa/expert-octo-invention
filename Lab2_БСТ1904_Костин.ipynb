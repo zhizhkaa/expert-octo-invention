{
 "cells": [
  {
   "cell_type": "markdown",
   "id": "premier-bearing",
   "metadata": {},
   "source": [
    "# Лабораторная работа №2\n",
    "## Выполнил студент группы БСТ1904 Костин Антон Алексеевич\n",
    "### Задание №1\n",
    "\n",
    "Реализовать методы поиска в соответствии с заданием. Организовать генерацию\n",
    "начального набора случайных данных. Для всех вариантов добавить реализацию\n",
    "добавления, поиска и удаления элементов. Оценить время работы каждого алгоритма\n",
    "поиска и сравнить его со временем работы стандартной функции поиска, используемой в\n",
    "выбранном языке программирования. \n",
    "\n",
    "|Бинарный поиск|Бинарное дерево|Фибоначчиев|Интерполяционный|\n",
    "|------|------|------|------|"
   ]
  },
  {
   "cell_type": "markdown",
   "id": "czech-supervision",
   "metadata": {},
   "source": [
    "### Генерация матрицы"
   ]
  },
  {
   "cell_type": "code",
   "execution_count": 3,
   "id": "electric-compilation",
   "metadata": {},
   "outputs": [],
   "source": [
    "import numpy as np\n",
    "\n",
    "def randomMatrix(min, max, rows, columns):\n",
    "    return np.random.randint(min, max, (rows, columns))"
   ]
  },
  {
   "cell_type": "markdown",
   "id": "rental-colleague",
   "metadata": {},
   "source": [
    "### Бинарный поиск\n"
   ]
  },
  {
   "cell_type": "code",
   "execution_count": 4,
   "id": "framed-zoning",
   "metadata": {},
   "outputs": [],
   "source": [
    "class binarySearch:\n",
    "    def __init__(self):\n",
    "        self.data = []\n",
    "\n",
    "    # Поиск индекса\n",
    "    def search(self, key):\n",
    "        min = 0\n",
    "        max = len(self.data)\n",
    "        while min < max:\n",
    "            middle = (min + max) // 2\n",
    "            if self.data[middle][0] < key:\n",
    "                min = middle + 1\n",
    "            else:\n",
    "                max = middle\n",
    "        return min    \n",
    "       \n",
    "    # Добавить элемент\n",
    "    def __setitem__(self, key, value):\n",
    "        index = self.search(key)\n",
    "        if index < len(self.data) and self.data[index][0] == key:\n",
    "            self.data[index] = (key, value)\n",
    "        else:\n",
    "            self.data.insert(index, (key, value))\n",
    "    \n",
    "    # Удалить элемент\n",
    "    def __delitem__(self, key):\n",
    "        index = self.search(key)\n",
    "        self.data.pop(index)\n",
    "    \n",
    "    # Получить элемент\n",
    "    def __getitem__(self, key):\n",
    "        index = self.search(key)\n",
    "        foundKey, val = self.data[index]\n",
    "        if foundKey == key:\n",
    "            return val"
   ]
  },
  {
   "cell_type": "markdown",
   "id": "assured-practitioner",
   "metadata": {},
   "source": [
    "### Бинарное дерево\n",
    "Значения меньше корневого находятся в левом поддереве, а большие - в правом"
   ]
  },
  {
   "cell_type": "code",
   "execution_count": 5,
   "id": "governing-limit",
   "metadata": {},
   "outputs": [],
   "source": [
    "class binaryTree:\n",
    "    def __init__(self, key, value):\n",
    "        self.key = key\n",
    "        self.value = value\n",
    "        self.left = self.right = None\n",
    "        \n",
    "class binaryTreeMap:\n",
    "    root = None\n",
    "    \n",
    "    def insert(self, tree, key, value):\n",
    "        if tree is None:\n",
    "            return binaryTree(key, value)\n",
    "        if tree.key > key:\n",
    "            tree.left = self.insert(tree.left, key, value)\n",
    "        elif tree.key < key:\n",
    "            tree.right = self.insert(tree.right, key, value)\n",
    "        else:\n",
    "            tree.value = value\n",
    "        return tree\n",
    "            \n",
    "    def search(self, tree, key):\n",
    "        if tree is None or tree.key == key:\n",
    "            return tree\n",
    "        if tree.key > key:\n",
    "            return self.search(tree.left, key)\n",
    "        return self.search(tree.right, key)\n",
    "        \n",
    "    def __getitem__(self, key):\n",
    "        tree = self.search(self.root, key)\n",
    "        if tree is not None:\n",
    "            return tree.value\n",
    "        raise KeyError()\n",
    "    \n",
    "    def __setitem__(self, key, value):\n",
    "        if self.root is None:\n",
    "            self.root = self.insert(self.root, key, value)\n",
    "        else: self.insert(self.root, key, value)"
   ]
  },
  {
   "cell_type": "markdown",
   "id": "bored-chamber",
   "metadata": {},
   "source": [
    "### Фибоначчиев поиск\n",
    "В этом поиске анализируются элементы, находящиеся в позициях, равных числам Фибоначчи.  \n",
    "Числа Фибоначчи получаются по следующему правилу: последующее число равно сумме двух предыдущих чисел.  \n",
    "##### [1, 1, 2, 3, 5, 8, 13, 21, 34 ....]"
   ]
  },
  {
   "cell_type": "code",
   "execution_count": null,
   "id": "sufficient-humidity",
   "metadata": {},
   "outputs": [],
   "source": [
    "def fib(n):\n",
    "    if len(fib_c) - 1 < n:\n",
    "        fib_c.append(fib(n - 1) + fib(n - 2))\n",
    "    return fib_c[n]\n",
    "\n",
    "class fibonacciMap(BinarySearchMap):\n",
    "    def search(self, key):\n",
    "        m = 0 \n",
    "        while fib(m) < len(self.data): \n",
    "            m += 1\n",
    "        offset = 0\n",
    "        while fib(m) > 1:\n",
    "            i = min(offset + fib(m - 1), len(self.data) - 1)\n",
    "            if key > self.data[i][0]:\n",
    "                offset = i\n",
    "            elif key == self.data[i][0]:\n",
    "                return i\n",
    "            m -= 1\n",
    "        if len(self.data) and self.data[offset][0] < key:\n",
    "            return offset + 1\n",
    "        return 0"
   ]
  },
  {
   "cell_type": "markdown",
   "id": "sacred-siemens",
   "metadata": {},
   "source": [
    "### Интерполяционный поиск"
   ]
  },
  {
   "cell_type": "code",
   "execution_count": null,
   "id": "occupational-console",
   "metadata": {},
   "outputs": [],
   "source": [
    "def nearest_mid(input_list, lower_bound_index, upper_bound_index, search_value):\n",
    "    return lower_bound_index + \\\n",
    "        (upper_bound_index - lower_bound_index) * \\\n",
    "        (search_value - input_list[lower_bound_index]) // \\\n",
    "        (input_list[upper_bound_index][0] - input_list[lower_bound_index][0])\n",
    "\n",
    "class interpolateMap(BinarySearchMap):\n",
    "    def interpolation_search(self, term):\n",
    "        size_of_list = len(self.data) - 1\n",
    "\n",
    "        index_of_first_element = 0\n",
    "        index_of_last_element = size_of_list\n",
    "\n",
    "        while index_of_first_element <= index_of_last_element:\n",
    "            mid_point = nearest_mid(self.data, index_of_first_element, index_of_last_element, term)\n",
    "\n",
    "            if mid_point > index_of_last_element or mid_point < index_of_first_element:\n",
    "                return None\n",
    "\n",
    "            if self.data[mid_point][0] == term:\n",
    "                return mid_point\n",
    "\n",
    "            if term > self.data[mid_point][0]:\n",
    "                index_of_first_element = mid_point + 1\n",
    "            else:\n",
    "                index_of_last_element = mid_point - 1\n",
    "\n",
    "        if index_of_first_element > index_of_last_element:\n",
    "            return None"
   ]
  },
  {
   "cell_type": "markdown",
   "id": "molecular-mechanism",
   "metadata": {},
   "source": [
    "### Задание 2\n",
    "|Простое рехэширование|Рехэширование с помощью псевдослучайных чисел|Метод цепочек|\n",
    "|------|------|------|"
   ]
  },
  {
   "cell_type": "markdown",
   "id": "champion-change",
   "metadata": {},
   "source": [
    "### Простое рехэширование\n"
   ]
  },
  {
   "cell_type": "code",
   "execution_count": 9,
   "id": "opposite-sponsorship",
   "metadata": {},
   "outputs": [],
   "source": [
    "class HashMap:\n",
    "    def __init__(self):\n",
    "        self.size = 0\n",
    "        self.data = []\n",
    "        self._resize()\n",
    "    \n",
    "    def _hash(self, key, i):\n",
    "        return (hash(key) + i) % len(self.data)\n",
    "        \n",
    "    def _find(self, key):\n",
    "        i = 0;\n",
    "        index = self._hash(key, i);\n",
    "        while self.data[index] is not None and self.data[index][0] != key:\n",
    "            i += 1\n",
    "            index = self._hash(key, i);\n",
    "        return index;\n",
    "    \n",
    "    def _resize(self):\n",
    "        temp = self.data\n",
    "        self.data = [None] * (2*len(self.data) + 1)\n",
    "        for item in temp:\n",
    "            if item is not None:\n",
    "                self.data[self._find(item[0])] = item\n",
    "    \n",
    "    def __setitem__(self, key, value):\n",
    "        if self.size + 1 > len(self.data) // 2:\n",
    "            self._resize()\n",
    "        index = self._find(key)\n",
    "        if self.data[index] is None:  \n",
    "            self.size += 1\n",
    "        self.data[index] = (key, value)\n",
    "    \n",
    "    def __getitem__(self, key):\n",
    "        index = self._find(key)\n",
    "        if self.data[index] is not None:\n",
    "            return self.data[index][1]\n",
    "        raise KeyError()"
   ]
  },
  {
   "cell_type": "markdown",
   "id": "through-child",
   "metadata": {},
   "source": [
    "### Рехеширование с помощью всевдослучайных чисел"
   ]
  },
  {
   "cell_type": "code",
   "execution_count": 10,
   "id": "broke-compression",
   "metadata": {},
   "outputs": [],
   "source": [
    "class RandomHashMap(HashMap):\n",
    "    _rand_c = [5323]\n",
    "    \n",
    "    def _rand(self, i):\n",
    "        if len(self._rand_c) - 1 < i:\n",
    "            self._rand_c.append(self._rand(i - 1))\n",
    "        return (123456789 * self._rand_c[i] + 987654321) % 65546\n",
    "        \n",
    "    def _hash(self, key, i):\n",
    "        return (hash(key) + self._rand(i)) % len(self.data)"
   ]
  },
  {
   "cell_type": "markdown",
   "id": "empty-european",
   "metadata": {},
   "source": [
    "### Метод цепочек"
   ]
  },
  {
   "cell_type": "code",
   "execution_count": null,
   "id": "agreed-chain",
   "metadata": {},
   "outputs": [],
   "source": [
    "class ChainMap:\n",
    "    def __init__(self):\n",
    "        self.size = 0\n",
    "        self.data = []\n",
    "        self._resize()\n",
    "    \n",
    "    def _hash(self, key):\n",
    "        return hash(key) % len(self.data)\n",
    "    \n",
    "    def _insert(self, index, item):\n",
    "        if self.data[index] is None:\n",
    "            self.data[index] = [item]\n",
    "            return True\n",
    "        else:\n",
    "            for i, item_ in enumerate(self.data[index]):\n",
    "                if item_[0] == item[0]:\n",
    "                    self.data[index][i] = item\n",
    "                    return False\n",
    "            self.data[index].append(item)\n",
    "            return True\n",
    "    \n",
    "    def _resize(self):\n",
    "        temp = self.data\n",
    "        self.data = [None] * (2*len(self.data) + 1)\n",
    "        for bucket in temp:\n",
    "            if bucket is not None:\n",
    "                for key, value in bucket:\n",
    "                    self._insert(self._hash(key), (key, value))\n",
    "    \n",
    "    def __setitem__(self, key, value):\n",
    "        if self.size + 1 > len(self.data) // 1.5:\n",
    "            self._resize()\n",
    "        if self._insert(self._hash(key), (key, value)):  \n",
    "            self.size += 1\n",
    "    \n",
    "    def __getitem__(self, key):\n",
    "        index = self._hash(key)\n",
    "        if self.data[index] is not None:\n",
    "            for key_, value in self.data[index]:\n",
    "                if key_ == key:\n",
    "                    return value\n",
    "        raise KeyError()"
   ]
  },
  {
   "cell_type": "markdown",
   "id": "agricultural-helmet",
   "metadata": {},
   "source": [
    "### Сравнение алгоритмов\n"
   ]
  },
  {
   "cell_type": "code",
   "execution_count": null,
   "id": "peripheral-truth",
   "metadata": {},
   "outputs": [],
   "source": [
    "\n",
    "\n"
   ]
  },
  {
   "cell_type": "markdown",
   "id": "amber-baker",
   "metadata": {},
   "source": [
    "### Задание 3\n",
    "Расставить на стандартной 64-клеточной шахматной доске 8 ферзей так, чтобы ни один из них не находился под боем другого». Подразумевается, что ферзь бьёт все клетки, расположенные по вертикалям, горизонталям и обеим диагоналям Написать программу, которая находит хотя бы один способ решения задач.\n",
    "\n",
    "##### ИЛИ\n",
    "\n",
    "Заполнить матрицу размером 8 х 8 нулями и единицами таким образом, чтобы сумма всех элементов матрицы была равна 8, при этом сумма элементов ни в одном столбце, строке или диагональном ряде матрицы не превышала единицы\n"
   ]
  },
  {
   "cell_type": "code",
   "execution_count": 76,
   "id": "happy-savage",
   "metadata": {},
   "outputs": [
    {
     "name": "stdout",
     "output_type": "stream",
     "text": [
      "[7, 3, 0, 2, 5, 1, 6, 4]\n"
     ]
    }
   ],
   "source": [
    "def queensproblem(rows, columns):\n",
    "    solutions = [[]]\n",
    "    for row in range(rows):\n",
    "        solutions = add_one_queen(row, columns, solutions)\n",
    "    return solutions\n",
    "\n",
    "def add_one_queen(new_row, columns, prev_solutions):\n",
    "    return [solution + [new_column]\n",
    "            for solution in prev_solutions\n",
    "            for new_column in range(columns)\n",
    "            if no_conflict(new_row, new_column, solution)]\n",
    "\n",
    "def no_conflict(new_row, new_column, solution):\n",
    "    return all(solution[row]       != new_column           and\n",
    "               solution[row] + row != new_column + new_row and\n",
    "               solution[row] - row != new_column - new_row\n",
    "               for row in range(new_row))\n",
    "\n",
    "print(solution)"
   ]
  },
  {
   "cell_type": "code",
   "execution_count": null,
   "id": "adolescent-fireplace",
   "metadata": {},
   "outputs": [],
   "source": []
  }
 ],
 "metadata": {
  "kernelspec": {
   "display_name": "Python 3",
   "language": "python",
   "name": "python3"
  },
  "language_info": {
   "codemirror_mode": {
    "name": "ipython",
    "version": 3
   },
   "file_extension": ".py",
   "mimetype": "text/x-python",
   "name": "python",
   "nbconvert_exporter": "python",
   "pygments_lexer": "ipython3",
   "version": "3.9.1"
  }
 },
 "nbformat": 4,
 "nbformat_minor": 5
}
